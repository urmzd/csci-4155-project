{
  "cells": [
    {
      "cell_type": "markdown",
      "source": [
        "**P2 - Team Rabbit Classifier**"
      ],
      "metadata": {
        "id": "sjXzjVz0tgmq"
      }
    },
    {
      "cell_type": "markdown",
      "source": [
        "In the current state of the project, we have developed a program that prepares the dataset for training, and is able to be processed by a simple Convolutional Neural Network architecture. As part of our data exploration, we pulled the hare and rabbit photos from our gitlab repository and converted the images from RGB to grayscale. In addition, we normalized the data and then provided padding to the dataset so that all input images would be uniformly sized at (200, 200). In order to process the organized data, we tested several architectures and observed the impact of iteratively modifying several hyperparameters, such as batch size and the quantity of epochs. Currently, the high training accuracy and low validation accuraccy (~0.55) is indicative of the model overfitting on the data. To overcome this, we believe that the current architecture should be extended to include a more gradual decrease in the size of the tensor over more convolutional and deep layers. This will increase the information that can be extracted from each pass and increase the validation accuracy."
      ],
      "metadata": {
        "id": "-dLem8Tuya8i"
      }
    },
    {
      "cell_type": "markdown",
      "source": [
        "Our Planned Next Steps:\n",
        "- Redesigning and extending our network architecture. In particular, this will involve adding more convolutional and dense layers to reduce our tensor more gradually to reach the final output more effectively, in the hopes of improving our validation accuracy. \n",
        "- Hyperparameter fine-tuning to maximize the validation accuracy and provide detailed insights into their impact on the model performance.\n",
        "- Coduct a detailed theoretical analysis of our model, and relate it to the performance observed in the experimentation process."
      ],
      "metadata": {
        "id": "SjG9DmBP9w34"
      }
    },
    {
      "cell_type": "code",
      "source": [
        "!pip install loguru\n",
        "!pip install pipetools"
      ],
      "metadata": {
        "id": "BNCvUPmit3GT",
        "outputId": "39ba5111-1be4-4996-d715-2780d4017bab",
        "colab": {
          "base_uri": "https://localhost:8080/"
        }
      },
      "execution_count": null,
      "outputs": [
        {
          "output_type": "stream",
          "name": "stdout",
          "text": [
            "Requirement already satisfied: loguru in /usr/local/lib/python3.7/dist-packages (0.6.0)\n",
            "Requirement already satisfied: pipetools in /usr/local/lib/python3.7/dist-packages (1.1.0)\n",
            "Requirement already satisfied: setuptools>=0.6b1 in /usr/local/lib/python3.7/dist-packages (from pipetools) (57.4.0)\n"
          ]
        }
      ]
    },
    {
      "cell_type": "markdown",
      "metadata": {
        "id": "9ucDgngtq-yi"
      },
      "source": [
        "# Data Exploration"
      ]
    },
    {
      "cell_type": "code",
      "execution_count": null,
      "metadata": {
        "cell_id": "00001-e041e215-eab8-4f7f-a991-5445374e65c7",
        "colab": {
          "base_uri": "https://localhost:8080/"
        },
        "deepnote_cell_height": 170,
        "deepnote_cell_type": "code",
        "deepnote_to_be_reexecuted": false,
        "execution_millis": 1715,
        "execution_start": 1647201571498,
        "id": "UC4X69CKSb8l",
        "outputId": "769d3a5d-c1e4-4a0b-eea8-4693e3649c50",
        "source_hash": "f1565328"
      },
      "outputs": [
        {
          "output_type": "stream",
          "name": "stdout",
          "text": [
            "  % Total    % Received % Xferd  Average Speed   Time    Time     Time  Current\n",
            "                                 Dload  Upload   Total   Spent    Left  Speed\n",
            "\r  0     0    0     0    0     0      0      0 --:--:-- --:--:-- --:--:--     0\r100  9380  100  9380    0     0   147k      0 --:--:-- --:--:-- --:--:--  147k\n"
          ]
        }
      ],
      "source": [
        "!mkdir -p /tmp\n",
        "!curl https://raw.githubusercontent.com/urmzd/rabbit-classifier/main/resources/data.csv --output /tmp/data.csv"
      ]
    },
    {
      "cell_type": "code",
      "execution_count": null,
      "metadata": {
        "cell_id": "00003-7b710265-0bcd-4077-b1d0-dcd3358647dd",
        "colab": {
          "base_uri": "https://localhost:8080/",
          "height": 206
        },
        "deepnote_cell_height": 747,
        "deepnote_cell_type": "code",
        "deepnote_to_be_reexecuted": false,
        "execution_millis": 115,
        "execution_start": 1647201580226,
        "id": "Qxr0rretS_9G",
        "outputId": "8be5606f-6417-4870-c4e6-6eb5d8c8ba13",
        "source_hash": "e35681e9"
      },
      "outputs": [
        {
          "output_type": "execute_result",
          "data": {
            "text/plain": [
              "    label                                               link\n",
              "0  rabbit  https://upload.wikimedia.org/wikipedia/commons...\n",
              "1  rabbit  https://upload.wikimedia.org/wikipedia/commons...\n",
              "2  rabbit  https://www.massaudubon.org/var/ezdemo_site/st...\n",
              "3  rabbit  https://www.welcomewildlife.com/wp-content/upl...\n",
              "4  rabbit  https://i.natgeofe.com/k/58df97a7-5c47-44b8-97..."
            ],
            "text/html": [
              "\n",
              "  <div id=\"df-1724eb51-f5c8-48e6-9642-ed4b23808d98\">\n",
              "    <div class=\"colab-df-container\">\n",
              "      <div>\n",
              "<style scoped>\n",
              "    .dataframe tbody tr th:only-of-type {\n",
              "        vertical-align: middle;\n",
              "    }\n",
              "\n",
              "    .dataframe tbody tr th {\n",
              "        vertical-align: top;\n",
              "    }\n",
              "\n",
              "    .dataframe thead th {\n",
              "        text-align: right;\n",
              "    }\n",
              "</style>\n",
              "<table border=\"1\" class=\"dataframe\">\n",
              "  <thead>\n",
              "    <tr style=\"text-align: right;\">\n",
              "      <th></th>\n",
              "      <th>label</th>\n",
              "      <th>link</th>\n",
              "    </tr>\n",
              "  </thead>\n",
              "  <tbody>\n",
              "    <tr>\n",
              "      <th>0</th>\n",
              "      <td>rabbit</td>\n",
              "      <td>https://upload.wikimedia.org/wikipedia/commons...</td>\n",
              "    </tr>\n",
              "    <tr>\n",
              "      <th>1</th>\n",
              "      <td>rabbit</td>\n",
              "      <td>https://upload.wikimedia.org/wikipedia/commons...</td>\n",
              "    </tr>\n",
              "    <tr>\n",
              "      <th>2</th>\n",
              "      <td>rabbit</td>\n",
              "      <td>https://www.massaudubon.org/var/ezdemo_site/st...</td>\n",
              "    </tr>\n",
              "    <tr>\n",
              "      <th>3</th>\n",
              "      <td>rabbit</td>\n",
              "      <td>https://www.welcomewildlife.com/wp-content/upl...</td>\n",
              "    </tr>\n",
              "    <tr>\n",
              "      <th>4</th>\n",
              "      <td>rabbit</td>\n",
              "      <td>https://i.natgeofe.com/k/58df97a7-5c47-44b8-97...</td>\n",
              "    </tr>\n",
              "  </tbody>\n",
              "</table>\n",
              "</div>\n",
              "      <button class=\"colab-df-convert\" onclick=\"convertToInteractive('df-1724eb51-f5c8-48e6-9642-ed4b23808d98')\"\n",
              "              title=\"Convert this dataframe to an interactive table.\"\n",
              "              style=\"display:none;\">\n",
              "        \n",
              "  <svg xmlns=\"http://www.w3.org/2000/svg\" height=\"24px\"viewBox=\"0 0 24 24\"\n",
              "       width=\"24px\">\n",
              "    <path d=\"M0 0h24v24H0V0z\" fill=\"none\"/>\n",
              "    <path d=\"M18.56 5.44l.94 2.06.94-2.06 2.06-.94-2.06-.94-.94-2.06-.94 2.06-2.06.94zm-11 1L8.5 8.5l.94-2.06 2.06-.94-2.06-.94L8.5 2.5l-.94 2.06-2.06.94zm10 10l.94 2.06.94-2.06 2.06-.94-2.06-.94-.94-2.06-.94 2.06-2.06.94z\"/><path d=\"M17.41 7.96l-1.37-1.37c-.4-.4-.92-.59-1.43-.59-.52 0-1.04.2-1.43.59L10.3 9.45l-7.72 7.72c-.78.78-.78 2.05 0 2.83L4 21.41c.39.39.9.59 1.41.59.51 0 1.02-.2 1.41-.59l7.78-7.78 2.81-2.81c.8-.78.8-2.07 0-2.86zM5.41 20L4 18.59l7.72-7.72 1.47 1.35L5.41 20z\"/>\n",
              "  </svg>\n",
              "      </button>\n",
              "      \n",
              "  <style>\n",
              "    .colab-df-container {\n",
              "      display:flex;\n",
              "      flex-wrap:wrap;\n",
              "      gap: 12px;\n",
              "    }\n",
              "\n",
              "    .colab-df-convert {\n",
              "      background-color: #E8F0FE;\n",
              "      border: none;\n",
              "      border-radius: 50%;\n",
              "      cursor: pointer;\n",
              "      display: none;\n",
              "      fill: #1967D2;\n",
              "      height: 32px;\n",
              "      padding: 0 0 0 0;\n",
              "      width: 32px;\n",
              "    }\n",
              "\n",
              "    .colab-df-convert:hover {\n",
              "      background-color: #E2EBFA;\n",
              "      box-shadow: 0px 1px 2px rgba(60, 64, 67, 0.3), 0px 1px 3px 1px rgba(60, 64, 67, 0.15);\n",
              "      fill: #174EA6;\n",
              "    }\n",
              "\n",
              "    [theme=dark] .colab-df-convert {\n",
              "      background-color: #3B4455;\n",
              "      fill: #D2E3FC;\n",
              "    }\n",
              "\n",
              "    [theme=dark] .colab-df-convert:hover {\n",
              "      background-color: #434B5C;\n",
              "      box-shadow: 0px 1px 3px 1px rgba(0, 0, 0, 0.15);\n",
              "      filter: drop-shadow(0px 1px 2px rgba(0, 0, 0, 0.3));\n",
              "      fill: #FFFFFF;\n",
              "    }\n",
              "  </style>\n",
              "\n",
              "      <script>\n",
              "        const buttonEl =\n",
              "          document.querySelector('#df-1724eb51-f5c8-48e6-9642-ed4b23808d98 button.colab-df-convert');\n",
              "        buttonEl.style.display =\n",
              "          google.colab.kernel.accessAllowed ? 'block' : 'none';\n",
              "\n",
              "        async function convertToInteractive(key) {\n",
              "          const element = document.querySelector('#df-1724eb51-f5c8-48e6-9642-ed4b23808d98');\n",
              "          const dataTable =\n",
              "            await google.colab.kernel.invokeFunction('convertToInteractive',\n",
              "                                                     [key], {});\n",
              "          if (!dataTable) return;\n",
              "\n",
              "          const docLinkHtml = 'Like what you see? Visit the ' +\n",
              "            '<a target=\"_blank\" href=https://colab.research.google.com/notebooks/data_table.ipynb>data table notebook</a>'\n",
              "            + ' to learn more about interactive tables.';\n",
              "          element.innerHTML = '';\n",
              "          dataTable['output_type'] = 'display_data';\n",
              "          await google.colab.output.renderOutput(dataTable, element);\n",
              "          const docLink = document.createElement('div');\n",
              "          docLink.innerHTML = docLinkHtml;\n",
              "          element.appendChild(docLink);\n",
              "        }\n",
              "      </script>\n",
              "    </div>\n",
              "  </div>\n",
              "  "
            ]
          },
          "metadata": {},
          "execution_count": 6
        }
      ],
      "source": [
        "import pandas as pd\n",
        "import requests\n",
        "import re\n",
        "import pathlib\n",
        "from loguru import logger\n",
        "\n",
        "DATA_PATH=\"/tmp/data.csv\"\n",
        "IMAGE_PATH=\"/tmp/images\"\n",
        "\n",
        "def get_data():\n",
        "  df = pd.read_csv(DATA_PATH, usecols=range(2))\n",
        "  return df\n",
        "\n",
        "def download_image(link: str) -> pathlib.Path:\n",
        "  # view  : https://regex101.com/r/3bhDMM/1\n",
        "  # delete: https://regex101.com/delete/N5sItwbrPF73ZllTnRDltxZ1\n",
        "  file_name_regex = re.compile(r\".*\\/(.*(\\.(jpeg|jpg|png))?)\\??.*\", flags=re.IGNORECASE)\n",
        "  regex_matches = file_name_regex.match(link)\n",
        "\n",
        "  if not regex_matches:\n",
        "    raise Exception(f\"Failed to match file_name for link {link}\")\n",
        "\n",
        "  if len(regex_matches.groups()) < 3:\n",
        "    file_name = regex_matches.group(1) + \".png\"\n",
        "  else:\n",
        "    file_name = regex_matches.group(1)\n",
        "\n",
        "  content_path = pathlib.Path(IMAGE_PATH)\n",
        "  content_path.mkdir(parents=True, exist_ok=True)\n",
        "\n",
        "  file_path = content_path / file_name\n",
        "\n",
        "  if file_path.exists():\n",
        "    return file_path\n",
        "\n",
        "  image_request_headers={\n",
        "      'User-Agent': 'Mozilla/5.0 (Macintosh; Intel Mac OS X 10_11_5) AppleWebKit/537.36 (KHTML, like Gecko) Chrome/50.0.2661.102 Safari/537.36'\n",
        "  }\n",
        "\n",
        "  image = requests.get(link, headers=image_request_headers)\n",
        "\n",
        "  with open(file_path, \"wb\") as handle:\n",
        "    handle.write(image.content)\n",
        "\n",
        "  return file_path\n",
        "\n",
        "df = get_data()\n",
        "df.head()"
      ]
    },
    {
      "cell_type": "code",
      "execution_count": null,
      "metadata": {
        "cell_id": "00004-c2dea932-9f3e-4e37-99fd-faf1b762a37b",
        "deepnote_cell_height": 387.1875,
        "deepnote_cell_type": "code",
        "deepnote_to_be_reexecuted": false,
        "execution_millis": 592,
        "execution_start": 1647201633464,
        "id": "-zbmiVyDmmvU",
        "source_hash": "1f483867"
      },
      "outputs": [],
      "source": [
        "import cv2\n",
        "from typing import NewType, Tuple, List\n",
        "import numpy as np\n",
        "\n",
        "Image = NewType('Image', np.array)\n",
        "Label = NewType('Label', str)\n",
        "ImageLabelPair = Tuple[Image, Label]\n",
        "\n",
        "def get_image(file_path: pathlib.Path, show=False) -> Image:\n",
        "  image = cv2.imread(str(file_path))\n",
        "\n",
        "  if show:\n",
        "    plt.imshow(image)\n",
        "    \n",
        "  return Image(image)\n",
        "\n",
        "RawX = NewType('RawX', List[Image])\n",
        "RawY = NewType('RawY', np.ndarray)\n",
        "\n",
        "def get_x_y(raw_data: pd.DataFrame) -> Tuple[RawX, RawY]:\n",
        "  y = raw_data.iloc[:, 0].to_numpy()\n",
        "  y = y.reshape(-1, 1)\n",
        "\n",
        "  x_links = raw_data.iloc[:, 1].tolist()\n",
        "  x_paths = [download_image(link) for link in x_links]\n",
        "  x = [get_image(path) for path in x_paths]\n",
        "\n",
        "  return RawX(x), RawY(y)"
      ]
    },
    {
      "cell_type": "code",
      "execution_count": null,
      "metadata": {
        "id": "Y4YskbE22ehz"
      },
      "outputs": [],
      "source": [
        "from sklearn.preprocessing import OneHotEncoder\n",
        "import albumentations as A\n",
        "import tensorflow as tf\n",
        "import matplotlib.pyplot as plt\n",
        "import random\n",
        "from pipetools import pipe, foreach\n",
        "\n",
        "random.seed(42)\n",
        "\n",
        "DESIRED_HEIGHT = 200\n",
        "DESIRED_WIDTH = 200\n",
        "SCALE_HEIGHT = False\n",
        "\n",
        "def get_scaled_dimensions(dim1: int, dim2:int, target_dim: int, reverse=False):\n",
        "    aspect_ratio = dim1 / dim2\n",
        "    scale_dim_by = dim2 / target_dim\n",
        "    scaled_dim2 = round(dim2 / scale_dim_by)\n",
        "    scaled_dim1 = round(dim1 / scale_dim_by * aspect_ratio)\n",
        "\n",
        "    scaled_dims = (scaled_dim1, scaled_dim2)\n",
        "\n",
        "    if reverse:\n",
        "      return scaled_dims[::-1]\n",
        "\n",
        "    return scaled_dims\n",
        "    \n",
        "\n",
        "\n",
        "def get_x_encoder():\n",
        "\n",
        "  def change_image_to_greyscale(img: Image) -> Image:\n",
        "    return cv2.cvtColor(img, cv2.COLOR_BGR2GRAY)\n",
        "\n",
        "  def normalize_image(img: Image) -> Image:\n",
        "    return cv2.normalize(img, None, alpha=0, beta=1, norm_type=cv2.NORM_MINMAX, dtype=cv2.CV_32F)\n",
        "\n",
        "  def resize_image(img: Image) -> Image:\n",
        "    height, width, _ = img.shape\n",
        "    scaled_dims = get_scaled_dimensions(width, height, target_dim=DESIRED_WIDTH) if SCALE_HEIGHT else get_scaled_dimensions(height, width, target_dim=DESIRED_HEIGHT, reverse=True)\n",
        "    return cv2.resize(img, scaled_dims)\n",
        "\n",
        "  def pad_image(img: Image) -> Image:\n",
        "    height, width = img.shape\n",
        "    bottom = 0\n",
        "    top = 0\n",
        "    left = 0\n",
        "    right = 0\n",
        "    if SCALE_HEIGHT:\n",
        "      width_padding_needed = max(DESIRED_WIDTH - width,0)\n",
        "      width_padding_per_side = width_padding_needed // 2\n",
        "      \n",
        "      left = width_padding_per_side\n",
        "      right = width_padding_per_side\n",
        "\n",
        "      if width_padding_needed % 2 == 1:\n",
        "        right += 1\n",
        "    else:\n",
        "      height_padding_needed = max(DESIRED_HEIGHT - height,0)\n",
        "      height_padding_per_side = height_padding_needed // 2\n",
        "\n",
        "      top = height_padding_per_side\n",
        "      bottom = height_padding_per_side\n",
        "\n",
        "      if height_padding_needed % 2 == 1:\n",
        "        top += 1\n",
        "\n",
        "    padded_image = cv2.copyMakeBorder(img, top, bottom, left, right, cv2.BORDER_CONSTANT)\n",
        "    # return img\n",
        "    return padded_image\n",
        "\n",
        "  def crop_image(img: Image):\n",
        "    height, width = img.shape\n",
        "\n",
        "    h_low = 0\n",
        "    h_high = DESIRED_HEIGHT\n",
        "    w_low = 0\n",
        "    w_high = DESIRED_WIDTH\n",
        "\n",
        "    if SCALE_HEIGHT:\n",
        "      difference = DESIRED_WIDTH - width\n",
        "      crops = difference // 2\n",
        "      w_low = 0 - crops\n",
        "      w_high = width + crops\n",
        "\n",
        "      if difference % 2 == 1:\n",
        "        w_high += 1\n",
        "    else:\n",
        "      difference = DESIRED_HEIGHT - height\n",
        "      crops = difference // 2\n",
        "      h_low = 0 - crops\n",
        "      h_high = height + crops\n",
        "\n",
        "      if difference % 2 == 1:\n",
        "        h_high += 1\n",
        "\n",
        "    # return img\n",
        "\n",
        "    return img[h_low:h_high, w_low:w_high]\n",
        "\n",
        "\n",
        "\n",
        "  return pipe | resize_image | change_image_to_greyscale | normalize_image | pad_image | crop_image\n",
        "\n",
        "def get_x_y_preprocessors(x: RawX, y: RawY):  \n",
        "  y_encoder = OneHotEncoder(sparse=False).fit(y)\n",
        "  x_encoder = get_x_encoder()\n",
        "\n",
        "  return x_encoder, y_encoder\n",
        "\n",
        "def get_processed_x_y(x: RawX, y: RawY):\n",
        "\n",
        "  x_encoder, y_encoder = get_x_y_preprocessors(x, y)\n",
        "\n",
        "  x_encoded = x > foreach(x_encoder) | list | np.array \n",
        "\n",
        "  y_encoded: np.ndarray = y_encoder.transform(y)\n",
        "\n",
        "  return x_encoded, y_encoded"
      ]
    },
    {
      "cell_type": "code",
      "execution_count": null,
      "metadata": {
        "id": "A87BqzKYtY85"
      },
      "outputs": [],
      "source": [
        "data = get_data()\n",
        "x, y = get_x_y(data)"
      ]
    },
    {
      "cell_type": "code",
      "execution_count": null,
      "metadata": {
        "id": "1m_dWwTQtY85",
        "outputId": "eada8ab4-ba5b-49f9-caec-0548c7ef69fb",
        "colab": {
          "base_uri": "https://localhost:8080/",
          "height": 1000
        }
      },
      "outputs": [
        {
          "output_type": "stream",
          "name": "stderr",
          "text": [
            "2022-03-16 17:21:46.389 | INFO     | __main__:<module>:8 - DIMENSIONS: (200, 200) \n",
            "2022-03-16 17:21:46.393 | INFO     | __main__:<module>:9 - MIN:  0.0\n",
            "2022-03-16 17:21:46.396 | INFO     | __main__:<module>:10 - MAX:  1.0\n",
            "2022-03-16 17:21:46.424 | INFO     | __main__:<module>:8 - DIMENSIONS: (200, 200) \n",
            "2022-03-16 17:21:46.425 | INFO     | __main__:<module>:9 - MIN:  0.0\n",
            "2022-03-16 17:21:46.427 | INFO     | __main__:<module>:10 - MAX:  1.0\n",
            "2022-03-16 17:21:46.435 | INFO     | __main__:<module>:8 - DIMENSIONS: (200, 200) \n",
            "2022-03-16 17:21:46.439 | INFO     | __main__:<module>:9 - MIN:  0.0\n",
            "2022-03-16 17:21:46.441 | INFO     | __main__:<module>:10 - MAX:  0.9999999403953552\n",
            "2022-03-16 17:21:46.444 | INFO     | __main__:<module>:8 - DIMENSIONS: (200, 200) \n",
            "2022-03-16 17:21:46.446 | INFO     | __main__:<module>:9 - MIN:  0.0\n",
            "2022-03-16 17:21:46.448 | INFO     | __main__:<module>:10 - MAX:  1.0\n",
            "2022-03-16 17:21:46.452 | INFO     | __main__:<module>:8 - DIMENSIONS: (200, 200) \n",
            "2022-03-16 17:21:46.455 | INFO     | __main__:<module>:9 - MIN:  0.0\n",
            "2022-03-16 17:21:46.457 | INFO     | __main__:<module>:10 - MAX:  0.9999998807907104\n",
            "2022-03-16 17:21:46.460 | INFO     | __main__:<module>:8 - DIMENSIONS: (200, 200) \n",
            "2022-03-16 17:21:46.463 | INFO     | __main__:<module>:9 - MIN:  0.011764707043766975\n",
            "2022-03-16 17:21:46.465 | INFO     | __main__:<module>:10 - MAX:  0.9529412388801575\n",
            "2022-03-16 17:21:46.469 | INFO     | __main__:<module>:8 - DIMENSIONS: (200, 200) \n",
            "2022-03-16 17:21:46.471 | INFO     | __main__:<module>:9 - MIN:  0.0\n",
            "2022-03-16 17:21:46.474 | INFO     | __main__:<module>:10 - MAX:  0.9999999403953552\n",
            "2022-03-16 17:21:46.478 | INFO     | __main__:<module>:8 - DIMENSIONS: (200, 200) \n",
            "2022-03-16 17:21:46.480 | INFO     | __main__:<module>:9 - MIN:  0.0\n",
            "2022-03-16 17:21:46.482 | INFO     | __main__:<module>:10 - MAX:  1.0\n",
            "2022-03-16 17:21:46.485 | INFO     | __main__:<module>:8 - DIMENSIONS: (200, 200) \n",
            "2022-03-16 17:21:46.488 | INFO     | __main__:<module>:9 - MIN:  0.0\n",
            "2022-03-16 17:21:46.489 | INFO     | __main__:<module>:10 - MAX:  1.0\n",
            "2022-03-16 17:21:46.495 | INFO     | __main__:<module>:8 - DIMENSIONS: (200, 200) \n",
            "2022-03-16 17:21:46.497 | INFO     | __main__:<module>:9 - MIN:  0.0\n",
            "2022-03-16 17:21:46.499 | INFO     | __main__:<module>:10 - MAX:  1.0\n",
            "2022-03-16 17:21:46.502 | INFO     | __main__:<module>:8 - DIMENSIONS: (200, 200) \n",
            "2022-03-16 17:21:46.504 | INFO     | __main__:<module>:9 - MIN:  0.0\n",
            "2022-03-16 17:21:46.505 | INFO     | __main__:<module>:10 - MAX:  1.0\n",
            "2022-03-16 17:21:46.509 | INFO     | __main__:<module>:8 - DIMENSIONS: (200, 200) \n",
            "2022-03-16 17:21:46.511 | INFO     | __main__:<module>:9 - MIN:  0.0\n",
            "2022-03-16 17:21:46.513 | INFO     | __main__:<module>:10 - MAX:  1.0000001192092896\n",
            "2022-03-16 17:21:46.516 | INFO     | __main__:<module>:8 - DIMENSIONS: (200, 200) \n",
            "2022-03-16 17:21:46.518 | INFO     | __main__:<module>:9 - MIN:  0.0\n",
            "2022-03-16 17:21:46.520 | INFO     | __main__:<module>:10 - MAX:  0.9999999403953552\n",
            "2022-03-16 17:21:46.524 | INFO     | __main__:<module>:8 - DIMENSIONS: (200, 200) \n",
            "2022-03-16 17:21:46.526 | INFO     | __main__:<module>:9 - MIN:  0.0\n",
            "2022-03-16 17:21:46.528 | INFO     | __main__:<module>:10 - MAX:  0.9999999403953552\n",
            "2022-03-16 17:21:46.533 | INFO     | __main__:<module>:8 - DIMENSIONS: (200, 200) \n",
            "2022-03-16 17:21:46.535 | INFO     | __main__:<module>:9 - MIN:  0.019920319318771362\n",
            "2022-03-16 17:21:46.537 | INFO     | __main__:<module>:10 - MAX:  0.9960159063339233\n",
            "2022-03-16 17:21:46.541 | INFO     | __main__:<module>:8 - DIMENSIONS: (200, 200) \n",
            "2022-03-16 17:21:46.543 | INFO     | __main__:<module>:9 - MIN:  0.0\n",
            "2022-03-16 17:21:46.544 | INFO     | __main__:<module>:10 - MAX:  0.9999999403953552\n",
            "2022-03-16 17:21:46.548 | INFO     | __main__:<module>:8 - DIMENSIONS: (200, 200) \n",
            "2022-03-16 17:21:46.550 | INFO     | __main__:<module>:9 - MIN:  0.0\n",
            "2022-03-16 17:21:46.551 | INFO     | __main__:<module>:10 - MAX:  1.0\n",
            "2022-03-16 17:21:46.556 | INFO     | __main__:<module>:8 - DIMENSIONS: (200, 200) \n",
            "2022-03-16 17:21:46.560 | INFO     | __main__:<module>:9 - MIN:  0.0\n",
            "2022-03-16 17:21:46.562 | INFO     | __main__:<module>:10 - MAX:  0.9999998807907104\n",
            "2022-03-16 17:21:46.568 | INFO     | __main__:<module>:8 - DIMENSIONS: (200, 200) \n",
            "2022-03-16 17:21:46.570 | INFO     | __main__:<module>:9 - MIN:  0.0\n",
            "2022-03-16 17:21:46.572 | INFO     | __main__:<module>:10 - MAX:  1.0\n",
            "2022-03-16 17:21:46.575 | INFO     | __main__:<module>:8 - DIMENSIONS: (200, 200) \n",
            "2022-03-16 17:21:46.580 | INFO     | __main__:<module>:9 - MIN:  0.0\n",
            "2022-03-16 17:21:46.582 | INFO     | __main__:<module>:10 - MAX:  1.0\n",
            "2022-03-16 17:21:46.585 | INFO     | __main__:<module>:8 - DIMENSIONS: (200, 200) \n",
            "2022-03-16 17:21:46.588 | INFO     | __main__:<module>:9 - MIN:  0.0\n",
            "2022-03-16 17:21:46.590 | INFO     | __main__:<module>:10 - MAX:  1.0\n",
            "2022-03-16 17:21:46.594 | INFO     | __main__:<module>:8 - DIMENSIONS: (200, 200) \n",
            "2022-03-16 17:21:46.597 | INFO     | __main__:<module>:9 - MIN:  0.0\n",
            "2022-03-16 17:21:46.601 | INFO     | __main__:<module>:10 - MAX:  1.0\n",
            "2022-03-16 17:21:46.604 | INFO     | __main__:<module>:8 - DIMENSIONS: (200, 200) \n",
            "2022-03-16 17:21:46.606 | INFO     | __main__:<module>:9 - MIN:  0.0\n",
            "2022-03-16 17:21:46.608 | INFO     | __main__:<module>:10 - MAX:  1.0\n",
            "2022-03-16 17:21:46.611 | INFO     | __main__:<module>:8 - DIMENSIONS: (200, 200) \n",
            "2022-03-16 17:21:46.613 | INFO     | __main__:<module>:9 - MIN:  0.0\n",
            "2022-03-16 17:21:46.615 | INFO     | __main__:<module>:10 - MAX:  1.0\n",
            "2022-03-16 17:21:46.618 | INFO     | __main__:<module>:8 - DIMENSIONS: (200, 200) \n",
            "2022-03-16 17:21:46.620 | INFO     | __main__:<module>:9 - MIN:  0.0\n",
            "2022-03-16 17:21:46.622 | INFO     | __main__:<module>:10 - MAX:  1.0\n",
            "2022-03-16 17:21:46.625 | INFO     | __main__:<module>:8 - DIMENSIONS: (200, 200) \n",
            "2022-03-16 17:21:46.627 | INFO     | __main__:<module>:9 - MIN:  0.0\n",
            "2022-03-16 17:21:46.629 | INFO     | __main__:<module>:10 - MAX:  1.0\n",
            "2022-03-16 17:21:46.632 | INFO     | __main__:<module>:8 - DIMENSIONS: (200, 200) \n",
            "2022-03-16 17:21:46.634 | INFO     | __main__:<module>:9 - MIN:  0.0\n",
            "2022-03-16 17:21:46.635 | INFO     | __main__:<module>:10 - MAX:  1.0\n",
            "2022-03-16 17:21:46.639 | INFO     | __main__:<module>:8 - DIMENSIONS: (200, 200) \n",
            "2022-03-16 17:21:46.640 | INFO     | __main__:<module>:9 - MIN:  0.0\n",
            "2022-03-16 17:21:46.642 | INFO     | __main__:<module>:10 - MAX:  1.0\n",
            "2022-03-16 17:21:46.645 | INFO     | __main__:<module>:8 - DIMENSIONS: (200, 200) \n",
            "2022-03-16 17:21:46.647 | INFO     | __main__:<module>:9 - MIN:  0.0\n",
            "2022-03-16 17:21:46.649 | INFO     | __main__:<module>:10 - MAX:  1.0\n",
            "2022-03-16 17:21:46.652 | INFO     | __main__:<module>:8 - DIMENSIONS: (200, 200) \n",
            "2022-03-16 17:21:46.654 | INFO     | __main__:<module>:9 - MIN:  0.0\n",
            "2022-03-16 17:21:46.656 | INFO     | __main__:<module>:10 - MAX:  1.0000001192092896\n",
            "2022-03-16 17:21:46.659 | INFO     | __main__:<module>:8 - DIMENSIONS: (200, 200) \n",
            "2022-03-16 17:21:46.661 | INFO     | __main__:<module>:9 - MIN:  0.0\n",
            "2022-03-16 17:21:46.664 | INFO     | __main__:<module>:10 - MAX:  1.0\n",
            "2022-03-16 17:21:46.667 | INFO     | __main__:<module>:8 - DIMENSIONS: (200, 200) \n",
            "2022-03-16 17:21:46.669 | INFO     | __main__:<module>:9 - MIN:  0.0\n",
            "2022-03-16 17:21:46.670 | INFO     | __main__:<module>:10 - MAX:  1.0\n",
            "2022-03-16 17:21:46.674 | INFO     | __main__:<module>:8 - DIMENSIONS: (200, 200) \n",
            "2022-03-16 17:21:46.675 | INFO     | __main__:<module>:9 - MIN:  0.0\n",
            "2022-03-16 17:21:46.677 | INFO     | __main__:<module>:10 - MAX:  1.0\n",
            "2022-03-16 17:21:46.681 | INFO     | __main__:<module>:8 - DIMENSIONS: (200, 200) \n",
            "2022-03-16 17:21:46.682 | INFO     | __main__:<module>:9 - MIN:  0.0\n",
            "2022-03-16 17:21:46.684 | INFO     | __main__:<module>:10 - MAX:  1.0\n",
            "2022-03-16 17:21:46.687 | INFO     | __main__:<module>:8 - DIMENSIONS: (200, 200) \n",
            "2022-03-16 17:21:46.689 | INFO     | __main__:<module>:9 - MIN:  0.0\n",
            "2022-03-16 17:21:46.690 | INFO     | __main__:<module>:10 - MAX:  1.0\n",
            "2022-03-16 17:21:46.694 | INFO     | __main__:<module>:8 - DIMENSIONS: (200, 200) \n",
            "2022-03-16 17:21:46.695 | INFO     | __main__:<module>:9 - MIN:  0.0\n",
            "2022-03-16 17:21:46.697 | INFO     | __main__:<module>:10 - MAX:  0.9999999403953552\n",
            "2022-03-16 17:21:46.700 | INFO     | __main__:<module>:8 - DIMENSIONS: (200, 200) \n",
            "2022-03-16 17:21:46.702 | INFO     | __main__:<module>:9 - MIN:  0.0\n",
            "2022-03-16 17:21:46.704 | INFO     | __main__:<module>:10 - MAX:  0.9999999403953552\n",
            "2022-03-16 17:21:46.707 | INFO     | __main__:<module>:8 - DIMENSIONS: (200, 200) \n",
            "2022-03-16 17:21:46.709 | INFO     | __main__:<module>:9 - MIN:  0.0\n",
            "2022-03-16 17:21:46.711 | INFO     | __main__:<module>:10 - MAX:  0.9999998807907104\n",
            "2022-03-16 17:21:46.714 | INFO     | __main__:<module>:8 - DIMENSIONS: (200, 200) \n",
            "2022-03-16 17:21:46.716 | INFO     | __main__:<module>:9 - MIN:  0.0\n",
            "2022-03-16 17:21:46.717 | INFO     | __main__:<module>:10 - MAX:  0.9999999403953552\n",
            "2022-03-16 17:21:46.721 | INFO     | __main__:<module>:8 - DIMENSIONS: (200, 200) \n",
            "2022-03-16 17:21:46.723 | INFO     | __main__:<module>:9 - MIN:  0.0\n",
            "2022-03-16 17:21:46.724 | INFO     | __main__:<module>:10 - MAX:  0.9999999403953552\n",
            "2022-03-16 17:21:46.728 | INFO     | __main__:<module>:8 - DIMENSIONS: (200, 200) \n",
            "2022-03-16 17:21:46.730 | INFO     | __main__:<module>:9 - MIN:  0.0\n",
            "2022-03-16 17:21:46.731 | INFO     | __main__:<module>:10 - MAX:  1.0000001192092896\n",
            "2022-03-16 17:21:46.735 | INFO     | __main__:<module>:8 - DIMENSIONS: (200, 200) \n",
            "2022-03-16 17:21:46.737 | INFO     | __main__:<module>:9 - MIN:  0.0\n",
            "2022-03-16 17:21:46.738 | INFO     | __main__:<module>:10 - MAX:  1.0\n",
            "2022-03-16 17:21:46.742 | INFO     | __main__:<module>:8 - DIMENSIONS: (200, 200) \n",
            "2022-03-16 17:21:46.743 | INFO     | __main__:<module>:9 - MIN:  0.0\n",
            "2022-03-16 17:21:46.745 | INFO     | __main__:<module>:10 - MAX:  1.0\n",
            "2022-03-16 17:21:46.748 | INFO     | __main__:<module>:8 - DIMENSIONS: (200, 200) \n",
            "2022-03-16 17:21:46.750 | INFO     | __main__:<module>:9 - MIN:  0.0\n",
            "2022-03-16 17:21:46.752 | INFO     | __main__:<module>:10 - MAX:  1.0000001192092896\n",
            "2022-03-16 17:21:46.755 | INFO     | __main__:<module>:8 - DIMENSIONS: (200, 200) \n",
            "2022-03-16 17:21:46.757 | INFO     | __main__:<module>:9 - MIN:  0.0\n",
            "2022-03-16 17:21:46.759 | INFO     | __main__:<module>:10 - MAX:  1.0\n",
            "2022-03-16 17:21:46.762 | INFO     | __main__:<module>:8 - DIMENSIONS: (200, 200) \n",
            "2022-03-16 17:21:46.764 | INFO     | __main__:<module>:9 - MIN:  0.0\n",
            "2022-03-16 17:21:46.766 | INFO     | __main__:<module>:10 - MAX:  1.0000001192092896\n",
            "2022-03-16 17:21:46.769 | INFO     | __main__:<module>:8 - DIMENSIONS: (200, 200) \n",
            "2022-03-16 17:21:46.771 | INFO     | __main__:<module>:9 - MIN:  0.0\n",
            "2022-03-16 17:21:46.772 | INFO     | __main__:<module>:10 - MAX:  0.9960784912109375\n",
            "2022-03-16 17:21:46.775 | INFO     | __main__:<module>:8 - DIMENSIONS: (200, 200) \n",
            "2022-03-16 17:21:46.777 | INFO     | __main__:<module>:9 - MIN:  0.0\n",
            "2022-03-16 17:21:46.779 | INFO     | __main__:<module>:10 - MAX:  1.0000001192092896\n",
            "2022-03-16 17:21:46.782 | INFO     | __main__:<module>:8 - DIMENSIONS: (200, 200) \n",
            "2022-03-16 17:21:46.784 | INFO     | __main__:<module>:9 - MIN:  0.0\n",
            "2022-03-16 17:21:46.795 | INFO     | __main__:<module>:10 - MAX:  0.9999999403953552\n",
            "2022-03-16 17:21:46.801 | INFO     | __main__:<module>:8 - DIMENSIONS: (200, 200) \n",
            "2022-03-16 17:21:46.803 | INFO     | __main__:<module>:9 - MIN:  0.0\n",
            "2022-03-16 17:21:46.805 | INFO     | __main__:<module>:10 - MAX:  1.0\n",
            "2022-03-16 17:21:46.809 | INFO     | __main__:<module>:8 - DIMENSIONS: (200, 200) \n",
            "2022-03-16 17:21:46.812 | INFO     | __main__:<module>:9 - MIN:  0.016597513109445572\n",
            "2022-03-16 17:21:46.814 | INFO     | __main__:<module>:10 - MAX:  1.0\n",
            "2022-03-16 17:21:46.818 | INFO     | __main__:<module>:8 - DIMENSIONS: (200, 200) \n",
            "2022-03-16 17:21:46.820 | INFO     | __main__:<module>:9 - MIN:  0.0\n",
            "2022-03-16 17:21:46.823 | INFO     | __main__:<module>:10 - MAX:  1.0\n",
            "2022-03-16 17:21:46.827 | INFO     | __main__:<module>:8 - DIMENSIONS: (200, 200) \n",
            "2022-03-16 17:21:46.831 | INFO     | __main__:<module>:9 - MIN:  0.0\n",
            "2022-03-16 17:21:46.833 | INFO     | __main__:<module>:10 - MAX:  0.9999999403953552\n",
            "2022-03-16 17:21:46.836 | INFO     | __main__:<module>:8 - DIMENSIONS: (200, 200) \n",
            "2022-03-16 17:21:46.840 | INFO     | __main__:<module>:9 - MIN:  0.0\n",
            "2022-03-16 17:21:46.843 | INFO     | __main__:<module>:10 - MAX:  1.0\n",
            "2022-03-16 17:21:46.848 | INFO     | __main__:<module>:8 - DIMENSIONS: (200, 200) \n",
            "2022-03-16 17:21:46.850 | INFO     | __main__:<module>:9 - MIN:  0.0\n",
            "2022-03-16 17:21:46.852 | INFO     | __main__:<module>:10 - MAX:  1.0\n",
            "2022-03-16 17:21:46.855 | INFO     | __main__:<module>:8 - DIMENSIONS: (200, 200) \n",
            "2022-03-16 17:21:46.857 | INFO     | __main__:<module>:9 - MIN:  0.0\n",
            "2022-03-16 17:21:46.859 | INFO     | __main__:<module>:10 - MAX:  1.0\n",
            "2022-03-16 17:21:46.864 | INFO     | __main__:<module>:8 - DIMENSIONS: (200, 200) \n",
            "2022-03-16 17:21:46.866 | INFO     | __main__:<module>:9 - MIN:  0.0\n",
            "2022-03-16 17:21:46.869 | INFO     | __main__:<module>:10 - MAX:  1.0\n",
            "2022-03-16 17:21:46.873 | INFO     | __main__:<module>:8 - DIMENSIONS: (200, 200) \n",
            "2022-03-16 17:21:46.877 | INFO     | __main__:<module>:9 - MIN:  0.0\n",
            "2022-03-16 17:21:46.879 | INFO     | __main__:<module>:10 - MAX:  1.0000001192092896\n",
            "2022-03-16 17:21:46.883 | INFO     | __main__:<module>:8 - DIMENSIONS: (200, 200) \n",
            "2022-03-16 17:21:46.886 | INFO     | __main__:<module>:9 - MIN:  0.0\n",
            "2022-03-16 17:21:46.888 | INFO     | __main__:<module>:10 - MAX:  1.0\n",
            "2022-03-16 17:21:46.892 | INFO     | __main__:<module>:8 - DIMENSIONS: (200, 200) \n",
            "2022-03-16 17:21:46.895 | INFO     | __main__:<module>:9 - MIN:  0.0\n",
            "2022-03-16 17:21:46.896 | INFO     | __main__:<module>:10 - MAX:  0.9999998807907104\n",
            "2022-03-16 17:21:46.903 | INFO     | __main__:<module>:8 - DIMENSIONS: (200, 200) \n",
            "2022-03-16 17:21:46.905 | INFO     | __main__:<module>:9 - MIN:  0.0\n",
            "2022-03-16 17:21:46.907 | INFO     | __main__:<module>:10 - MAX:  1.0\n",
            "2022-03-16 17:21:46.911 | INFO     | __main__:<module>:8 - DIMENSIONS: (200, 200) \n",
            "2022-03-16 17:21:46.913 | INFO     | __main__:<module>:9 - MIN:  0.0\n",
            "2022-03-16 17:21:46.915 | INFO     | __main__:<module>:10 - MAX:  1.0\n",
            "2022-03-16 17:21:46.919 | INFO     | __main__:<module>:8 - DIMENSIONS: (200, 200) \n",
            "2022-03-16 17:21:46.921 | INFO     | __main__:<module>:9 - MIN:  0.0\n",
            "2022-03-16 17:21:46.922 | INFO     | __main__:<module>:10 - MAX:  1.0\n",
            "2022-03-16 17:21:46.926 | INFO     | __main__:<module>:8 - DIMENSIONS: (200, 200) \n",
            "2022-03-16 17:21:46.928 | INFO     | __main__:<module>:9 - MIN:  0.0\n",
            "2022-03-16 17:21:46.930 | INFO     | __main__:<module>:10 - MAX:  0.9999999403953552\n",
            "2022-03-16 17:21:46.934 | INFO     | __main__:<module>:8 - DIMENSIONS: (200, 200) \n",
            "2022-03-16 17:21:46.936 | INFO     | __main__:<module>:9 - MIN:  0.0\n",
            "2022-03-16 17:21:46.937 | INFO     | __main__:<module>:10 - MAX:  1.0\n",
            "2022-03-16 17:21:46.943 | INFO     | __main__:<module>:8 - DIMENSIONS: (200, 200) \n",
            "2022-03-16 17:21:46.945 | INFO     | __main__:<module>:9 - MIN:  0.007905138656497002\n",
            "2022-03-16 17:21:46.947 | INFO     | __main__:<module>:10 - MAX:  1.0\n",
            "2022-03-16 17:21:46.950 | INFO     | __main__:<module>:8 - DIMENSIONS: (200, 200) \n",
            "2022-03-16 17:21:46.953 | INFO     | __main__:<module>:9 - MIN:  0.0\n",
            "2022-03-16 17:21:46.955 | INFO     | __main__:<module>:10 - MAX:  1.0\n",
            "2022-03-16 17:21:46.958 | INFO     | __main__:<module>:8 - DIMENSIONS: (200, 200) \n",
            "2022-03-16 17:21:46.960 | INFO     | __main__:<module>:9 - MIN:  0.0\n",
            "2022-03-16 17:21:46.962 | INFO     | __main__:<module>:10 - MAX:  1.0\n",
            "2022-03-16 17:21:46.966 | INFO     | __main__:<module>:8 - DIMENSIONS: (200, 200) \n",
            "2022-03-16 17:21:46.968 | INFO     | __main__:<module>:9 - MIN:  0.0\n",
            "2022-03-16 17:21:46.970 | INFO     | __main__:<module>:10 - MAX:  1.0\n",
            "2022-03-16 17:21:46.974 | INFO     | __main__:<module>:8 - DIMENSIONS: (200, 200) \n",
            "2022-03-16 17:21:46.976 | INFO     | __main__:<module>:9 - MIN:  0.0\n",
            "2022-03-16 17:21:46.978 | INFO     | __main__:<module>:10 - MAX:  1.0\n",
            "2022-03-16 17:21:46.982 | INFO     | __main__:<module>:8 - DIMENSIONS: (200, 200) \n",
            "2022-03-16 17:21:46.984 | INFO     | __main__:<module>:9 - MIN:  0.0\n",
            "2022-03-16 17:21:46.986 | INFO     | __main__:<module>:10 - MAX:  1.0\n",
            "2022-03-16 17:21:46.990 | INFO     | __main__:<module>:8 - DIMENSIONS: (200, 200) \n",
            "2022-03-16 17:21:46.991 | INFO     | __main__:<module>:9 - MIN:  0.0\n",
            "2022-03-16 17:21:46.993 | INFO     | __main__:<module>:10 - MAX:  1.0\n",
            "2022-03-16 17:21:46.997 | INFO     | __main__:<module>:8 - DIMENSIONS: (200, 200) \n",
            "2022-03-16 17:21:46.998 | INFO     | __main__:<module>:9 - MIN:  0.0\n",
            "2022-03-16 17:21:47.001 | INFO     | __main__:<module>:10 - MAX:  1.0\n",
            "2022-03-16 17:21:47.004 | INFO     | __main__:<module>:8 - DIMENSIONS: (200, 200) \n",
            "2022-03-16 17:21:47.006 | INFO     | __main__:<module>:9 - MIN:  0.0\n",
            "2022-03-16 17:21:47.008 | INFO     | __main__:<module>:10 - MAX:  0.9999999403953552\n",
            "2022-03-16 17:21:47.012 | INFO     | __main__:<module>:8 - DIMENSIONS: (200, 200) \n",
            "2022-03-16 17:21:47.014 | INFO     | __main__:<module>:9 - MIN:  0.0\n",
            "2022-03-16 17:21:47.015 | INFO     | __main__:<module>:10 - MAX:  0.9999999403953552\n",
            "2022-03-16 17:21:47.020 | INFO     | __main__:<module>:8 - DIMENSIONS: (200, 200) \n",
            "2022-03-16 17:21:47.022 | INFO     | __main__:<module>:9 - MIN:  0.0\n",
            "2022-03-16 17:21:47.024 | INFO     | __main__:<module>:10 - MAX:  1.0\n",
            "2022-03-16 17:21:47.029 | INFO     | __main__:<module>:8 - DIMENSIONS: (200, 200) \n",
            "2022-03-16 17:21:47.032 | INFO     | __main__:<module>:9 - MIN:  0.0\n",
            "2022-03-16 17:21:47.034 | INFO     | __main__:<module>:10 - MAX:  1.0\n",
            "2022-03-16 17:21:47.038 | INFO     | __main__:<module>:8 - DIMENSIONS: (200, 200) \n",
            "2022-03-16 17:21:47.040 | INFO     | __main__:<module>:9 - MIN:  0.0\n",
            "2022-03-16 17:21:47.043 | INFO     | __main__:<module>:10 - MAX:  1.0000001192092896\n",
            "2022-03-16 17:21:47.047 | INFO     | __main__:<module>:8 - DIMENSIONS: (200, 200) \n",
            "2022-03-16 17:21:47.049 | INFO     | __main__:<module>:9 - MIN:  0.0\n",
            "2022-03-16 17:21:47.051 | INFO     | __main__:<module>:10 - MAX:  1.0\n",
            "2022-03-16 17:21:47.055 | INFO     | __main__:<module>:8 - DIMENSIONS: (200, 200) \n",
            "2022-03-16 17:21:47.057 | INFO     | __main__:<module>:9 - MIN:  0.0\n",
            "2022-03-16 17:21:47.059 | INFO     | __main__:<module>:10 - MAX:  1.0\n",
            "2022-03-16 17:21:47.064 | INFO     | __main__:<module>:8 - DIMENSIONS: (200, 200) \n",
            "2022-03-16 17:21:47.065 | INFO     | __main__:<module>:9 - MIN:  0.0\n",
            "2022-03-16 17:21:47.068 | INFO     | __main__:<module>:10 - MAX:  1.0\n",
            "2022-03-16 17:21:47.072 | INFO     | __main__:<module>:8 - DIMENSIONS: (200, 200) \n",
            "2022-03-16 17:21:47.074 | INFO     | __main__:<module>:9 - MIN:  0.0\n",
            "2022-03-16 17:21:47.076 | INFO     | __main__:<module>:10 - MAX:  1.0\n",
            "2022-03-16 17:21:47.081 | INFO     | __main__:<module>:8 - DIMENSIONS: (200, 200) \n",
            "2022-03-16 17:21:47.083 | INFO     | __main__:<module>:9 - MIN:  0.0\n",
            "2022-03-16 17:21:47.085 | INFO     | __main__:<module>:10 - MAX:  1.0\n",
            "2022-03-16 17:21:47.089 | INFO     | __main__:<module>:8 - DIMENSIONS: (200, 200) \n",
            "2022-03-16 17:21:47.091 | INFO     | __main__:<module>:9 - MIN:  0.0\n",
            "2022-03-16 17:21:47.094 | INFO     | __main__:<module>:10 - MAX:  1.0\n",
            "2022-03-16 17:21:47.098 | INFO     | __main__:<module>:8 - DIMENSIONS: (200, 200) \n",
            "2022-03-16 17:21:47.100 | INFO     | __main__:<module>:9 - MIN:  0.0\n",
            "2022-03-16 17:21:47.103 | INFO     | __main__:<module>:10 - MAX:  1.0\n"
          ]
        },
        {
          "output_type": "display_data",
          "data": {
            "text/plain": [
              "<Figure size 432x288 with 1 Axes>"
            ],
            "image/png": "[encoded data removed]"
          },
          "metadata": {
            "needs_background": "light"
          }
        }
      ],
      "source": [
        "# raw_image = x[-1]\n",
        "# image = cv2.cvtColor(raw_image, cv2.COLOR_BGR2GRAY)\n",
        "# image = cv2.normalize(image, None, alpha=0, beta=1, norm_type=cv2.NORM_MINMAX, dtype=cv2.CV_32F)\n",
        "# logger.info(image.shape)\n",
        "# logger.info(image.dtype)\n",
        "dataset = get_processed_x_y(x, y)\n",
        "for image in dataset[0]:\n",
        "  logger.info(f\"DIMENSIONS: {image.shape} \")\n",
        "  logger.info(f\"MIN:  {np.min(image)}\")\n",
        "  logger.info(f\"MAX:  {np.max(image)}\")\n",
        "  plt.imshow(image, cmap=\"gray\")"
      ]
    },
    {
      "cell_type": "markdown",
      "metadata": {
        "id": "qJQbNPjTrGfc"
      },
      "source": [
        "# BASIC ARCHITECTURE EXPERIMENTS + OVERFITTING"
      ]
    },
    {
      "cell_type": "code",
      "source": [
        "import tensorflow as tf\n",
        "from tensorflow.keras import layers, models\n",
        "import matplotlib as plt"
      ],
      "metadata": {
        "id": "xM-1cu8qtxYJ"
      },
      "execution_count": null,
      "outputs": []
    },
    {
      "cell_type": "code",
      "source": [
        "x_t = dataset[0]\n",
        "y_t = dataset[1]"
      ],
      "metadata": {
        "id": "oz_Td3BSwE9G"
      },
      "execution_count": null,
      "outputs": []
    },
    {
      "cell_type": "code",
      "source": [
        "dataset[0]"
      ],
      "metadata": {
        "colab": {
          "base_uri": "https://localhost:8080/"
        },
        "id": "qy-_CFvLxl_v",
        "outputId": "685d5aeb-1287-4c06-dd81-2177631db560"
      },
      "execution_count": null,
      "outputs": [
        {
          "output_type": "execute_result",
          "data": {
            "text/plain": [
              "array([[[0., 0., 0., ..., 0., 0., 0.],\n",
              "        [0., 0., 0., ..., 0., 0., 0.],\n",
              "        [0., 0., 0., ..., 0., 0., 0.],\n",
              "        ...,\n",
              "        [0., 0., 0., ..., 0., 0., 0.],\n",
              "        [0., 0., 0., ..., 0., 0., 0.],\n",
              "        [0., 0., 0., ..., 0., 0., 0.]],\n",
              "\n",
              "       [[0., 0., 0., ..., 0., 0., 0.],\n",
              "        [0., 0., 0., ..., 0., 0., 0.],\n",
              "        [0., 0., 0., ..., 0., 0., 0.],\n",
              "        ...,\n",
              "        [0., 0., 0., ..., 0., 0., 0.],\n",
              "        [0., 0., 0., ..., 0., 0., 0.],\n",
              "        [0., 0., 0., ..., 0., 0., 0.]],\n",
              "\n",
              "       [[0., 0., 0., ..., 0., 0., 0.],\n",
              "        [0., 0., 0., ..., 0., 0., 0.],\n",
              "        [0., 0., 0., ..., 0., 0., 0.],\n",
              "        ...,\n",
              "        [0., 0., 0., ..., 0., 0., 0.],\n",
              "        [0., 0., 0., ..., 0., 0., 0.],\n",
              "        [0., 0., 0., ..., 0., 0., 0.]],\n",
              "\n",
              "       ...,\n",
              "\n",
              "       [[0., 0., 0., ..., 0., 0., 0.],\n",
              "        [0., 0., 0., ..., 0., 0., 0.],\n",
              "        [0., 0., 0., ..., 0., 0., 0.],\n",
              "        ...,\n",
              "        [0., 0., 0., ..., 0., 0., 0.],\n",
              "        [0., 0., 0., ..., 0., 0., 0.],\n",
              "        [0., 0., 0., ..., 0., 0., 0.]],\n",
              "\n",
              "       [[0., 0., 0., ..., 0., 0., 0.],\n",
              "        [0., 0., 0., ..., 0., 0., 0.],\n",
              "        [0., 0., 0., ..., 0., 0., 0.],\n",
              "        ...,\n",
              "        [0., 0., 0., ..., 0., 0., 0.],\n",
              "        [0., 0., 0., ..., 0., 0., 0.],\n",
              "        [0., 0., 0., ..., 0., 0., 0.]],\n",
              "\n",
              "       [[0., 0., 0., ..., 0., 0., 0.],\n",
              "        [0., 0., 0., ..., 0., 0., 0.],\n",
              "        [0., 0., 0., ..., 0., 0., 0.],\n",
              "        ...,\n",
              "        [0., 0., 0., ..., 0., 0., 0.],\n",
              "        [0., 0., 0., ..., 0., 0., 0.],\n",
              "        [0., 0., 0., ..., 0., 0., 0.]]], dtype=float32)"
            ]
          },
          "metadata": {},
          "execution_count": 29
        }
      ]
    },
    {
      "cell_type": "code",
      "source": [
        "shapes = []\n",
        "for i in range(len(x)):\n",
        "\n",
        " shapes.append(x_t[i].shape)\n",
        "\n",
        "print(max(shapes))\n",
        "print(shapes)"
      ],
      "metadata": {
        "colab": {
          "base_uri": "https://localhost:8080/"
        },
        "id": "LTVGykRtumuN",
        "outputId": "c84b2399-e348-4e20-bdee-7369b3604377"
      },
      "execution_count": null,
      "outputs": [
        {
          "output_type": "stream",
          "name": "stdout",
          "text": [
            "(200, 200)\n",
            "[(200, 200), (200, 200), (200, 200), (200, 200), (200, 200), (200, 200), (200, 200), (200, 200), (200, 200), (200, 200), (200, 200), (200, 200), (200, 200), (200, 200), (200, 200), (200, 200), (200, 200), (200, 200), (200, 200), (200, 200), (200, 200), (200, 200), (200, 200), (200, 200), (200, 200), (200, 200), (200, 200), (200, 200), (200, 200), (200, 200), (200, 200), (200, 200), (200, 200), (200, 200), (200, 200), (200, 200), (200, 200), (200, 200), (200, 200), (200, 200), (200, 200), (200, 200), (200, 200), (200, 200), (200, 200), (200, 200), (200, 200), (200, 200), (200, 200), (200, 200), (200, 200), (200, 200), (200, 200), (200, 200), (200, 200), (200, 200), (200, 200), (200, 200), (200, 200), (200, 200), (200, 200), (200, 200), (200, 200), (200, 200), (200, 200), (200, 200), (200, 200), (200, 200), (200, 200), (200, 200), (200, 200), (200, 200), (200, 200), (200, 200), (200, 200), (200, 200), (200, 200), (200, 200), (200, 200), (200, 200), (200, 200), (200, 200), (200, 200), (200, 200), (200, 200)]\n"
          ]
        }
      ]
    },
    {
      "cell_type": "markdown",
      "source": [
        "**Basic Test of Simple Architecture, 10 epoch training with 32 batch size**"
      ],
      "metadata": {
        "id": "TsXtKWWwzb3f"
      }
    },
    {
      "cell_type": "code",
      "source": [
        "model = models.Sequential()\n",
        "model.add(layers.Conv2D(32,(3,3), activation='relu', input_shape=(200,200,1)))\n",
        "model.add(layers.MaxPooling2D((2, 2)))\n",
        "model.add(layers.Flatten())\n",
        "model.add(layers.Dense(2, activation = \"sigmoid\"))\n",
        "model.summary()"
      ],
      "metadata": {
        "colab": {
          "base_uri": "https://localhost:8080/"
        },
        "id": "e_IXM_Xnu4NE",
        "outputId": "2b943191-e0ca-40f4-c0f8-a061d78f28e4"
      },
      "execution_count": null,
      "outputs": [
        {
          "output_type": "stream",
          "name": "stdout",
          "text": [
            "Model: \"sequential_13\"\n",
            "_________________________________________________________________\n",
            " Layer (type)                Output Shape              Param #   \n",
            "=================================================================\n",
            " conv2d_10 (Conv2D)          (None, 198, 198, 32)      320       \n",
            "                                                                 \n",
            " max_pooling2d_8 (MaxPooling  (None, 99, 99, 32)       0         \n",
            " 2D)                                                             \n",
            "                                                                 \n",
            " flatten_8 (Flatten)         (None, 313632)            0         \n",
            "                                                                 \n",
            " dense_8 (Dense)             (None, 2)                 627266    \n",
            "                                                                 \n",
            "=================================================================\n",
            "Total params: 627,586\n",
            "Trainable params: 627,586\n",
            "Non-trainable params: 0\n",
            "_________________________________________________________________\n"
          ]
        }
      ]
    },
    {
      "cell_type": "code",
      "source": [
        "from sklearn.model_selection import train_test_split\n",
        "\n",
        "x_train, x_test, y_train, y_test = train_test_split(np.asarray(x_t), np.asarray(y_t), test_size = 0.2, random_state = 42)"
      ],
      "metadata": {
        "id": "MjgCrzeUu8f8"
      },
      "execution_count": null,
      "outputs": []
    },
    {
      "cell_type": "code",
      "source": [
        "np.random.seed(42)"
      ],
      "metadata": {
        "id": "n6QCCU5eu_Oo"
      },
      "execution_count": null,
      "outputs": []
    },
    {
      "cell_type": "code",
      "source": [
        "model.compile(optimizer='adam',loss=tf.keras.losses.CategoricalCrossentropy(),metrics=['accuracy'])"
      ],
      "metadata": {
        "id": "gDMkAokEvBcC"
      },
      "execution_count": null,
      "outputs": []
    },
    {
      "cell_type": "code",
      "source": [
        "history = model.fit(x_train,y_train,epochs = 10,batch_size=32, validation_data=(x_test,y_test))"
      ],
      "metadata": {
        "colab": {
          "base_uri": "https://localhost:8080/"
        },
        "id": "bNafYas2vGCY",
        "outputId": "166586bc-2521-4171-c530-a38f2dac56b2"
      },
      "execution_count": null,
      "outputs": [
        {
          "output_type": "stream",
          "name": "stdout",
          "text": [
            "Epoch 1/10\n",
            "3/3 [==============================] - 2s 624ms/step - loss: 1.0147 - accuracy: 0.7500 - val_loss: 2.3271 - val_accuracy: 0.4706\n",
            "Epoch 2/10\n",
            "3/3 [==============================] - 2s 598ms/step - loss: 0.5091 - accuracy: 0.8382 - val_loss: 1.4425 - val_accuracy: 0.5294\n",
            "Epoch 3/10\n",
            "3/3 [==============================] - 2s 626ms/step - loss: 0.5329 - accuracy: 0.7794 - val_loss: 1.3835 - val_accuracy: 0.4706\n",
            "Epoch 4/10\n",
            "3/3 [==============================] - 2s 690ms/step - loss: 0.1470 - accuracy: 0.9559 - val_loss: 1.8966 - val_accuracy: 0.4706\n",
            "Epoch 5/10\n",
            "3/3 [==============================] - 2s 467ms/step - loss: 0.3615 - accuracy: 0.7941 - val_loss: 1.6948 - val_accuracy: 0.4118\n",
            "Epoch 6/10\n",
            "3/3 [==============================] - 2s 594ms/step - loss: 0.1528 - accuracy: 0.9265 - val_loss: 1.4356 - val_accuracy: 0.4706\n",
            "Epoch 7/10\n",
            "3/3 [==============================] - 2s 649ms/step - loss: 0.1383 - accuracy: 0.9706 - val_loss: 1.3076 - val_accuracy: 0.5294\n",
            "Epoch 8/10\n",
            "3/3 [==============================] - 2s 622ms/step - loss: 0.1001 - accuracy: 0.9706 - val_loss: 1.1078 - val_accuracy: 0.4706\n",
            "Epoch 9/10\n",
            "3/3 [==============================] - 2s 606ms/step - loss: 0.0962 - accuracy: 0.9706 - val_loss: 1.2885 - val_accuracy: 0.5294\n",
            "Epoch 10/10\n",
            "3/3 [==============================] - 2s 587ms/step - loss: 0.1273 - accuracy: 0.9853 - val_loss: 1.1390 - val_accuracy: 0.5294\n"
          ]
        }
      ]
    },
    {
      "cell_type": "code",
      "source": [
        "plt.plot(history.history['accuracy'])\n",
        "plt.plot(history.history['val_accuracy'])\n",
        "plt.legend(['train','validation'])\n",
        "plt.show()"
      ],
      "metadata": {
        "colab": {
          "base_uri": "https://localhost:8080/",
          "height": 265
        },
        "id": "MbLLykDW1hZj",
        "outputId": "3f2c8b21-bee0-4cd3-c76e-f18a7ae87cea"
      },
      "execution_count": null,
      "outputs": [
        {
          "output_type": "display_data",
          "data": {
            "text/plain": [
              "<Figure size 432x288 with 1 Axes>"
            ],
            "image/png": "[encoded data removed]"
          },
          "metadata": {
            "needs_background": "light"
          }
        }
      ]
    },
    {
      "cell_type": "markdown",
      "source": [
        "**Overfit via Single Batch, 100 Epochs**"
      ],
      "metadata": {
        "id": "jW9NR2JivIaj"
      }
    },
    {
      "cell_type": "code",
      "source": [
        "model = models.Sequential()\n",
        "model.add(layers.Conv2D(32,(3,3), activation='relu', input_shape=(200,200,1)))\n",
        "model.add(layers.MaxPooling2D((2, 2)))\n",
        "model.add(layers.Flatten())\n",
        "model.add(layers.Dense(2, activation = \"sigmoid\"))\n",
        "model.summary()\n",
        "model.compile(optimizer='adam',loss=tf.keras.losses.CategoricalCrossentropy(),metrics=['accuracy'])\n",
        "history = model.fit(x_train,y_train,batch_size=1,epochs = 100,validation_data=(x_test,y_test))"
      ],
      "metadata": {
        "id": "0S4tPpQjvYhM",
        "colab": {
          "base_uri": "https://localhost:8080/"
        },
        "outputId": "059e0842-1f78-4c51-c252-e1118b8d75ae"
      },
      "execution_count": null,
      "outputs": [
        {
          "output_type": "stream",
          "name": "stdout",
          "text": [
            "Model: \"sequential_14\"\n",
            "_________________________________________________________________\n",
            " Layer (type)                Output Shape              Param #   \n",
            "=================================================================\n",
            " conv2d_11 (Conv2D)          (None, 198, 198, 32)      320       \n",
            "                                                                 \n",
            " max_pooling2d_9 (MaxPooling  (None, 99, 99, 32)       0         \n",
            " 2D)                                                             \n",
            "                                                                 \n",
            " flatten_9 (Flatten)         (None, 313632)            0         \n",
            "                                                                 \n",
            " dense_9 (Dense)             (None, 2)                 627266    \n",
            "                                                                 \n",
            "=================================================================\n",
            "Total params: 627,586\n",
            "Trainable params: 627,586\n",
            "Non-trainable params: 0\n",
            "_________________________________________________________________\n",
            "Epoch 1/100\n",
            "68/68 [==============================] - 3s 39ms/step - loss: 4.6091 - accuracy: 0.4853 - val_loss: 0.8329 - val_accuracy: 0.5882\n",
            "Epoch 2/100\n",
            "68/68 [==============================] - 2s 32ms/step - loss: 0.4823 - accuracy: 0.7794 - val_loss: 0.9286 - val_accuracy: 0.5882\n",
            "Epoch 3/100\n",
            "68/68 [==============================] - 2s 33ms/step - loss: 0.2204 - accuracy: 0.9559 - val_loss: 1.0432 - val_accuracy: 0.4706\n",
            "Epoch 4/100\n",
            "68/68 [==============================] - 2s 32ms/step - loss: 0.0526 - accuracy: 1.0000 - val_loss: 1.0658 - val_accuracy: 0.5294\n",
            "Epoch 5/100\n",
            "68/68 [==============================] - 2s 33ms/step - loss: 0.0162 - accuracy: 1.0000 - val_loss: 1.1809 - val_accuracy: 0.5294\n",
            "Epoch 6/100\n",
            "68/68 [==============================] - 3s 41ms/step - loss: 0.0076 - accuracy: 1.0000 - val_loss: 1.2553 - val_accuracy: 0.5294\n",
            "Epoch 7/100\n",
            "68/68 [==============================] - 2s 33ms/step - loss: 0.0060 - accuracy: 1.0000 - val_loss: 0.9804 - val_accuracy: 0.6471\n",
            "Epoch 8/100\n",
            "68/68 [==============================] - 2s 33ms/step - loss: 0.0032 - accuracy: 1.0000 - val_loss: 1.2255 - val_accuracy: 0.5294\n",
            "Epoch 9/100\n",
            "68/68 [==============================] - 2s 34ms/step - loss: 0.0019 - accuracy: 1.0000 - val_loss: 1.0605 - val_accuracy: 0.5882\n",
            "Epoch 10/100\n",
            "68/68 [==============================] - 2s 33ms/step - loss: 0.0014 - accuracy: 1.0000 - val_loss: 1.0859 - val_accuracy: 0.7059\n",
            "Epoch 11/100\n",
            "68/68 [==============================] - 2s 33ms/step - loss: 9.2418e-04 - accuracy: 1.0000 - val_loss: 1.2256 - val_accuracy: 0.5294\n",
            "Epoch 12/100\n",
            "68/68 [==============================] - 2s 33ms/step - loss: 5.7114e-04 - accuracy: 1.0000 - val_loss: 1.1958 - val_accuracy: 0.5882\n",
            "Epoch 13/100\n",
            "68/68 [==============================] - 2s 34ms/step - loss: 3.7997e-04 - accuracy: 1.0000 - val_loss: 1.2973 - val_accuracy: 0.5294\n",
            "Epoch 14/100\n",
            "68/68 [==============================] - 2s 33ms/step - loss: 2.6390e-04 - accuracy: 1.0000 - val_loss: 1.3931 - val_accuracy: 0.5294\n",
            "Epoch 15/100\n",
            "68/68 [==============================] - 2s 33ms/step - loss: 1.9884e-04 - accuracy: 1.0000 - val_loss: 1.4584 - val_accuracy: 0.5294\n",
            "Epoch 16/100\n",
            "68/68 [==============================] - 2s 33ms/step - loss: 1.5251e-04 - accuracy: 1.0000 - val_loss: 1.4253 - val_accuracy: 0.5294\n",
            "Epoch 17/100\n",
            "68/68 [==============================] - 2s 33ms/step - loss: 1.2420e-04 - accuracy: 1.0000 - val_loss: 1.4494 - val_accuracy: 0.5294\n",
            "Epoch 18/100\n",
            "68/68 [==============================] - 2s 33ms/step - loss: 1.0042e-04 - accuracy: 1.0000 - val_loss: 1.4562 - val_accuracy: 0.5882\n",
            "Epoch 19/100\n",
            "68/68 [==============================] - 2s 33ms/step - loss: 9.3585e-05 - accuracy: 1.0000 - val_loss: 1.4100 - val_accuracy: 0.5882\n",
            "Epoch 20/100\n",
            "68/68 [==============================] - 2s 34ms/step - loss: 7.3824e-05 - accuracy: 1.0000 - val_loss: 1.5362 - val_accuracy: 0.5294\n",
            "Epoch 21/100\n",
            "68/68 [==============================] - 3s 44ms/step - loss: 6.7865e-05 - accuracy: 1.0000 - val_loss: 1.5138 - val_accuracy: 0.5294\n",
            "Epoch 22/100\n",
            "68/68 [==============================] - 5s 69ms/step - loss: 5.7842e-05 - accuracy: 1.0000 - val_loss: 1.5333 - val_accuracy: 0.5294\n",
            "Epoch 23/100\n",
            "68/68 [==============================] - 4s 64ms/step - loss: 4.9451e-05 - accuracy: 1.0000 - val_loss: 1.6031 - val_accuracy: 0.5294\n",
            "Epoch 24/100\n",
            "68/68 [==============================] - 3s 51ms/step - loss: 4.4932e-05 - accuracy: 1.0000 - val_loss: 1.5713 - val_accuracy: 0.5294\n",
            "Epoch 25/100\n",
            "68/68 [==============================] - 4s 53ms/step - loss: 4.2471e-05 - accuracy: 1.0000 - val_loss: 1.4597 - val_accuracy: 0.5882\n",
            "Epoch 26/100\n",
            "68/68 [==============================] - 2s 34ms/step - loss: 3.5641e-05 - accuracy: 1.0000 - val_loss: 1.5755 - val_accuracy: 0.5294\n",
            "Epoch 27/100\n",
            "68/68 [==============================] - 2s 34ms/step - loss: 3.1595e-05 - accuracy: 1.0000 - val_loss: 1.5510 - val_accuracy: 0.5882\n",
            "Epoch 28/100\n",
            "68/68 [==============================] - 2s 34ms/step - loss: 2.8141e-05 - accuracy: 1.0000 - val_loss: 1.6760 - val_accuracy: 0.5294\n",
            "Epoch 29/100\n",
            "68/68 [==============================] - 2s 34ms/step - loss: 2.7497e-05 - accuracy: 1.0000 - val_loss: 1.6184 - val_accuracy: 0.5294\n",
            "Epoch 30/100\n",
            "68/68 [==============================] - 3s 43ms/step - loss: 2.3993e-05 - accuracy: 1.0000 - val_loss: 1.6774 - val_accuracy: 0.5294\n",
            "Epoch 31/100\n",
            "68/68 [==============================] - 3s 49ms/step - loss: 2.1862e-05 - accuracy: 1.0000 - val_loss: 1.6324 - val_accuracy: 0.5882\n",
            "Epoch 32/100\n",
            "68/68 [==============================] - 3s 50ms/step - loss: 1.9837e-05 - accuracy: 1.0000 - val_loss: 1.6378 - val_accuracy: 0.5294\n",
            "Epoch 33/100\n",
            "68/68 [==============================] - 2s 34ms/step - loss: 1.8272e-05 - accuracy: 1.0000 - val_loss: 1.7244 - val_accuracy: 0.5294\n",
            "Epoch 34/100\n",
            "68/68 [==============================] - 2s 34ms/step - loss: 1.6850e-05 - accuracy: 1.0000 - val_loss: 1.6281 - val_accuracy: 0.5882\n",
            "Epoch 35/100\n",
            "68/68 [==============================] - 2s 34ms/step - loss: 1.6077e-05 - accuracy: 1.0000 - val_loss: 1.7159 - val_accuracy: 0.5294\n",
            "Epoch 36/100\n",
            "68/68 [==============================] - 2s 34ms/step - loss: 1.4531e-05 - accuracy: 1.0000 - val_loss: 1.7426 - val_accuracy: 0.5294\n",
            "Epoch 37/100\n",
            "68/68 [==============================] - 2s 34ms/step - loss: 1.3770e-05 - accuracy: 1.0000 - val_loss: 1.6689 - val_accuracy: 0.5882\n",
            "Epoch 38/100\n",
            "68/68 [==============================] - 2s 34ms/step - loss: 1.2611e-05 - accuracy: 1.0000 - val_loss: 1.7546 - val_accuracy: 0.5294\n",
            "Epoch 39/100\n",
            "68/68 [==============================] - 2s 33ms/step - loss: 1.1882e-05 - accuracy: 1.0000 - val_loss: 1.7199 - val_accuracy: 0.5294\n",
            "Epoch 40/100\n",
            "68/68 [==============================] - 2s 34ms/step - loss: 1.0985e-05 - accuracy: 1.0000 - val_loss: 1.7359 - val_accuracy: 0.5294\n",
            "Epoch 41/100\n",
            "68/68 [==============================] - 2s 34ms/step - loss: 1.0194e-05 - accuracy: 1.0000 - val_loss: 1.7688 - val_accuracy: 0.5294\n",
            "Epoch 42/100\n",
            "68/68 [==============================] - 2s 34ms/step - loss: 9.5261e-06 - accuracy: 1.0000 - val_loss: 1.7670 - val_accuracy: 0.5294\n",
            "Epoch 43/100\n",
            "68/68 [==============================] - 2s 33ms/step - loss: 8.9738e-06 - accuracy: 1.0000 - val_loss: 1.7156 - val_accuracy: 0.5882\n",
            "Epoch 44/100\n",
            "68/68 [==============================] - 2s 34ms/step - loss: 8.4725e-06 - accuracy: 1.0000 - val_loss: 1.7620 - val_accuracy: 0.5294\n",
            "Epoch 45/100\n",
            "68/68 [==============================] - 2s 34ms/step - loss: 8.1903e-06 - accuracy: 1.0000 - val_loss: 1.7576 - val_accuracy: 0.5882\n",
            "Epoch 46/100\n",
            "68/68 [==============================] - 2s 33ms/step - loss: 7.4750e-06 - accuracy: 1.0000 - val_loss: 1.7605 - val_accuracy: 0.5882\n",
            "Epoch 47/100\n",
            "68/68 [==============================] - 2s 33ms/step - loss: 6.9263e-06 - accuracy: 1.0000 - val_loss: 1.8087 - val_accuracy: 0.5294\n",
            "Epoch 48/100\n",
            "68/68 [==============================] - 2s 33ms/step - loss: 6.7107e-06 - accuracy: 1.0000 - val_loss: 1.8180 - val_accuracy: 0.5294\n",
            "Epoch 49/100\n",
            "68/68 [==============================] - 2s 33ms/step - loss: 6.2076e-06 - accuracy: 1.0000 - val_loss: 1.8148 - val_accuracy: 0.5294\n",
            "Epoch 50/100\n",
            "68/68 [==============================] - 2s 33ms/step - loss: 5.7237e-06 - accuracy: 1.0000 - val_loss: 1.8129 - val_accuracy: 0.5882\n",
            "Epoch 51/100\n",
            "68/68 [==============================] - 2s 33ms/step - loss: 5.7974e-06 - accuracy: 1.0000 - val_loss: 1.8111 - val_accuracy: 0.5294\n",
            "Epoch 52/100\n",
            "68/68 [==============================] - 2s 33ms/step - loss: 5.2101e-06 - accuracy: 1.0000 - val_loss: 1.8129 - val_accuracy: 0.5882\n",
            "Epoch 53/100\n",
            "68/68 [==============================] - 2s 33ms/step - loss: 4.9033e-06 - accuracy: 1.0000 - val_loss: 1.8313 - val_accuracy: 0.5882\n",
            "Epoch 54/100\n",
            "68/68 [==============================] - 2s 33ms/step - loss: 4.6509e-06 - accuracy: 1.0000 - val_loss: 1.9067 - val_accuracy: 0.5294\n",
            "Epoch 55/100\n",
            "68/68 [==============================] - 2s 34ms/step - loss: 4.5580e-06 - accuracy: 1.0000 - val_loss: 1.8722 - val_accuracy: 0.5294\n",
            "Epoch 56/100\n",
            "68/68 [==============================] - 2s 34ms/step - loss: 4.2407e-06 - accuracy: 1.0000 - val_loss: 1.8668 - val_accuracy: 0.5294\n",
            "Epoch 57/100\n",
            "68/68 [==============================] - 2s 33ms/step - loss: 4.0075e-06 - accuracy: 1.0000 - val_loss: 1.8579 - val_accuracy: 0.5882\n",
            "Epoch 58/100\n",
            "68/68 [==============================] - 2s 34ms/step - loss: 3.8269e-06 - accuracy: 1.0000 - val_loss: 1.8947 - val_accuracy: 0.5294\n",
            "Epoch 59/100\n",
            "68/68 [==============================] - 2s 33ms/step - loss: 3.6587e-06 - accuracy: 1.0000 - val_loss: 1.9203 - val_accuracy: 0.5294\n",
            "Epoch 60/100\n",
            "68/68 [==============================] - 2s 34ms/step - loss: 3.3992e-06 - accuracy: 1.0000 - val_loss: 1.9306 - val_accuracy: 0.5294\n",
            "Epoch 61/100\n",
            "68/68 [==============================] - 2s 33ms/step - loss: 3.2695e-06 - accuracy: 1.0000 - val_loss: 1.9405 - val_accuracy: 0.5294\n",
            "Epoch 62/100\n",
            "68/68 [==============================] - 2s 33ms/step - loss: 3.1257e-06 - accuracy: 1.0000 - val_loss: 1.9320 - val_accuracy: 0.5294\n",
            "Epoch 63/100\n",
            "68/68 [==============================] - 2s 33ms/step - loss: 2.9048e-06 - accuracy: 1.0000 - val_loss: 1.9368 - val_accuracy: 0.5294\n",
            "Epoch 64/100\n",
            "68/68 [==============================] - 2s 33ms/step - loss: 2.7593e-06 - accuracy: 1.0000 - val_loss: 1.9653 - val_accuracy: 0.5294\n",
            "Epoch 65/100\n",
            "68/68 [==============================] - 2s 33ms/step - loss: 2.6208e-06 - accuracy: 1.0000 - val_loss: 1.9331 - val_accuracy: 0.5882\n",
            "Epoch 66/100\n",
            "68/68 [==============================] - 2s 33ms/step - loss: 2.5104e-06 - accuracy: 1.0000 - val_loss: 1.9680 - val_accuracy: 0.5294\n",
            "Epoch 67/100\n",
            "68/68 [==============================] - 2s 33ms/step - loss: 2.4192e-06 - accuracy: 1.0000 - val_loss: 2.0219 - val_accuracy: 0.4706\n",
            "Epoch 68/100\n",
            "68/68 [==============================] - 2s 34ms/step - loss: 2.3421e-06 - accuracy: 1.0000 - val_loss: 1.9925 - val_accuracy: 0.5294\n",
            "Epoch 69/100\n",
            "68/68 [==============================] - 2s 33ms/step - loss: 2.1545e-06 - accuracy: 1.0000 - val_loss: 1.9230 - val_accuracy: 0.5882\n",
            "Epoch 70/100\n",
            "68/68 [==============================] - 2s 33ms/step - loss: 2.1125e-06 - accuracy: 1.0000 - val_loss: 1.9296 - val_accuracy: 0.5882\n",
            "Epoch 71/100\n",
            "68/68 [==============================] - 2s 34ms/step - loss: 2.0301e-06 - accuracy: 1.0000 - val_loss: 1.9542 - val_accuracy: 0.5882\n",
            "Epoch 72/100\n",
            "68/68 [==============================] - 2s 34ms/step - loss: 1.8442e-06 - accuracy: 1.0000 - val_loss: 2.0391 - val_accuracy: 0.4706\n",
            "Epoch 73/100\n",
            "68/68 [==============================] - 2s 34ms/step - loss: 1.8372e-06 - accuracy: 1.0000 - val_loss: 1.9950 - val_accuracy: 0.5294\n",
            "Epoch 74/100\n",
            "68/68 [==============================] - 2s 34ms/step - loss: 1.7250e-06 - accuracy: 1.0000 - val_loss: 2.0511 - val_accuracy: 0.4706\n",
            "Epoch 75/100\n",
            "68/68 [==============================] - 2s 34ms/step - loss: 1.6707e-06 - accuracy: 1.0000 - val_loss: 2.0210 - val_accuracy: 0.5294\n",
            "Epoch 76/100\n",
            "68/68 [==============================] - 2s 33ms/step - loss: 1.5550e-06 - accuracy: 1.0000 - val_loss: 2.0488 - val_accuracy: 0.4706\n",
            "Epoch 77/100\n",
            "68/68 [==============================] - 2s 34ms/step - loss: 1.5129e-06 - accuracy: 1.0000 - val_loss: 2.0425 - val_accuracy: 0.4706\n",
            "Epoch 78/100\n",
            "68/68 [==============================] - 2s 34ms/step - loss: 1.4270e-06 - accuracy: 1.0000 - val_loss: 2.0646 - val_accuracy: 0.4706\n",
            "Epoch 79/100\n",
            "68/68 [==============================] - 3s 39ms/step - loss: 1.3481e-06 - accuracy: 1.0000 - val_loss: 2.0419 - val_accuracy: 0.5294\n",
            "Epoch 80/100\n",
            "68/68 [==============================] - 2s 35ms/step - loss: 1.3288e-06 - accuracy: 1.0000 - val_loss: 2.0450 - val_accuracy: 0.5294\n",
            "Epoch 81/100\n",
            "68/68 [==============================] - 2s 35ms/step - loss: 1.2780e-06 - accuracy: 1.0000 - val_loss: 1.9556 - val_accuracy: 0.5882\n",
            "Epoch 82/100\n",
            "68/68 [==============================] - 2s 34ms/step - loss: 1.2044e-06 - accuracy: 1.0000 - val_loss: 2.0316 - val_accuracy: 0.5882\n",
            "Epoch 83/100\n",
            "68/68 [==============================] - 3s 39ms/step - loss: 1.1623e-06 - accuracy: 1.0000 - val_loss: 2.0630 - val_accuracy: 0.4706\n",
            "Epoch 84/100\n",
            "68/68 [==============================] - 2s 34ms/step - loss: 1.0781e-06 - accuracy: 1.0000 - val_loss: 2.0575 - val_accuracy: 0.5882\n",
            "Epoch 85/100\n",
            "68/68 [==============================] - 2s 34ms/step - loss: 1.0466e-06 - accuracy: 1.0000 - val_loss: 2.0983 - val_accuracy: 0.4706\n",
            "Epoch 86/100\n",
            "68/68 [==============================] - 2s 34ms/step - loss: 1.0028e-06 - accuracy: 1.0000 - val_loss: 2.1156 - val_accuracy: 0.4706\n",
            "Epoch 87/100\n",
            "68/68 [==============================] - 2s 34ms/step - loss: 9.5893e-07 - accuracy: 1.0000 - val_loss: 2.1077 - val_accuracy: 0.4706\n",
            "Epoch 88/100\n",
            "68/68 [==============================] - 2s 35ms/step - loss: 9.5192e-07 - accuracy: 1.0000 - val_loss: 2.0825 - val_accuracy: 0.5882\n",
            "Epoch 89/100\n",
            "68/68 [==============================] - 2s 35ms/step - loss: 8.7303e-07 - accuracy: 1.0000 - val_loss: 2.0736 - val_accuracy: 0.5882\n",
            "Epoch 90/100\n",
            "68/68 [==============================] - 2s 35ms/step - loss: 8.5725e-07 - accuracy: 1.0000 - val_loss: 2.0851 - val_accuracy: 0.5882\n",
            "Epoch 91/100\n",
            "68/68 [==============================] - 2s 35ms/step - loss: 8.0992e-07 - accuracy: 1.0000 - val_loss: 2.1189 - val_accuracy: 0.4706\n",
            "Epoch 92/100\n",
            "68/68 [==============================] - 2s 34ms/step - loss: 7.6259e-07 - accuracy: 1.0000 - val_loss: 2.1080 - val_accuracy: 0.5294\n",
            "Epoch 93/100\n",
            "68/68 [==============================] - 2s 34ms/step - loss: 7.3980e-07 - accuracy: 1.0000 - val_loss: 2.1303 - val_accuracy: 0.4706\n",
            "Epoch 94/100\n",
            "68/68 [==============================] - 2s 35ms/step - loss: 7.0298e-07 - accuracy: 1.0000 - val_loss: 2.1281 - val_accuracy: 0.5294\n",
            "Epoch 95/100\n",
            "68/68 [==============================] - 2s 35ms/step - loss: 6.8721e-07 - accuracy: 1.0000 - val_loss: 2.1053 - val_accuracy: 0.5882\n",
            "Epoch 96/100\n",
            "68/68 [==============================] - 2s 35ms/step - loss: 6.4864e-07 - accuracy: 1.0000 - val_loss: 2.1547 - val_accuracy: 0.4706\n",
            "Epoch 97/100\n",
            "68/68 [==============================] - 2s 35ms/step - loss: 6.3286e-07 - accuracy: 1.0000 - val_loss: 2.1691 - val_accuracy: 0.4706\n",
            "Epoch 98/100\n",
            "68/68 [==============================] - 2s 35ms/step - loss: 6.1708e-07 - accuracy: 1.0000 - val_loss: 2.1782 - val_accuracy: 0.4706\n",
            "Epoch 99/100\n",
            "68/68 [==============================] - 2s 35ms/step - loss: 5.9429e-07 - accuracy: 1.0000 - val_loss: 2.1640 - val_accuracy: 0.4706\n",
            "Epoch 100/100\n",
            "68/68 [==============================] - 2s 34ms/step - loss: 5.5573e-07 - accuracy: 1.0000 - val_loss: 2.2252 - val_accuracy: 0.4706\n"
          ]
        }
      ]
    },
    {
      "cell_type": "code",
      "source": [
        "plt.plot(history.history['accuracy'])\n",
        "plt.plot(history.history['val_accuracy'])\n",
        "plt.legend(['train','validation'])\n",
        "plt.show()"
      ],
      "metadata": {
        "colab": {
          "base_uri": "https://localhost:8080/",
          "height": 265
        },
        "id": "gOs8OFJi1qSo",
        "outputId": "691ca1be-ab1a-4e4e-bc91-231f6b80c661"
      },
      "execution_count": null,
      "outputs": [
        {
          "output_type": "display_data",
          "data": {
            "text/plain": [
              "<Figure size 432x288 with 1 Axes>"
            ],
            "image/png": "[encoded data removed]"
          },
          "metadata": {
            "needs_background": "light"
          }
        }
      ]
    },
    {
      "cell_type": "markdown",
      "source": [
        "**Experimenting with 32 batch size, 50 epochs**"
      ],
      "metadata": {
        "id": "N6z9wggezTF9"
      }
    },
    {
      "cell_type": "code",
      "source": [
        "model = models.Sequential()\n",
        "model.add(layers.Conv2D(32,(3,3), activation='relu', input_shape=(200,200,1)))\n",
        "model.add(layers.MaxPooling2D((2, 2)))\n",
        "model.add(layers.Flatten())\n",
        "model.add(layers.Dense(2, activation = \"sigmoid\"))\n",
        "model.summary()\n",
        "model.compile(optimizer='adam',loss=tf.keras.losses.CategoricalCrossentropy(),metrics=['accuracy'])\n",
        "history = model.fit(x_train,y_train,batch_size=32,epochs = 50,validation_data=(x_test,y_test))"
      ],
      "metadata": {
        "id": "VAiY7TAGva2W",
        "colab": {
          "base_uri": "https://localhost:8080/"
        },
        "outputId": "42180af2-2024-45eb-fe78-95b7f9850c2e"
      },
      "execution_count": null,
      "outputs": [
        {
          "output_type": "stream",
          "name": "stdout",
          "text": [
            "Model: \"sequential_12\"\n",
            "_________________________________________________________________\n",
            " Layer (type)                Output Shape              Param #   \n",
            "=================================================================\n",
            " conv2d_9 (Conv2D)           (None, 198, 198, 32)      320       \n",
            "                                                                 \n",
            " max_pooling2d_7 (MaxPooling  (None, 99, 99, 32)       0         \n",
            " 2D)                                                             \n",
            "                                                                 \n",
            " flatten_7 (Flatten)         (None, 313632)            0         \n",
            "                                                                 \n",
            " dense_7 (Dense)             (None, 2)                 627266    \n",
            "                                                                 \n",
            "=================================================================\n",
            "Total params: 627,586\n",
            "Trainable params: 627,586\n",
            "Non-trainable params: 0\n",
            "_________________________________________________________________\n",
            "Epoch 1/50\n",
            "3/3 [==============================] - 2s 481ms/step - loss: 9.3102 - accuracy: 0.3824 - val_loss: 2.8982 - val_accuracy: 0.4706\n",
            "Epoch 2/50\n",
            "3/3 [==============================] - 1s 400ms/step - loss: 3.7086 - accuracy: 0.5882 - val_loss: 5.0220 - val_accuracy: 0.5294\n",
            "Epoch 3/50\n",
            "3/3 [==============================] - 1s 394ms/step - loss: 1.6393 - accuracy: 0.6618 - val_loss: 3.5742 - val_accuracy: 0.5294\n",
            "Epoch 4/50\n",
            "3/3 [==============================] - 1s 394ms/step - loss: 3.1645 - accuracy: 0.4853 - val_loss: 2.0520 - val_accuracy: 0.6471\n",
            "Epoch 5/50\n",
            "3/3 [==============================] - 1s 392ms/step - loss: 1.0016 - accuracy: 0.7500 - val_loss: 4.5991 - val_accuracy: 0.5294\n",
            "Epoch 6/50\n",
            "3/3 [==============================] - 1s 410ms/step - loss: 2.9205 - accuracy: 0.5882 - val_loss: 3.7648 - val_accuracy: 0.4706\n",
            "Epoch 7/50\n",
            "3/3 [==============================] - 1s 403ms/step - loss: 1.1011 - accuracy: 0.6912 - val_loss: 2.3754 - val_accuracy: 0.6471\n",
            "Epoch 8/50\n",
            "3/3 [==============================] - 1s 395ms/step - loss: 1.9123 - accuracy: 0.6618 - val_loss: 3.5579 - val_accuracy: 0.5294\n",
            "Epoch 9/50\n",
            "3/3 [==============================] - 1s 399ms/step - loss: 2.2015 - accuracy: 0.6176 - val_loss: 2.1190 - val_accuracy: 0.4118\n",
            "Epoch 10/50\n",
            "3/3 [==============================] - 1s 405ms/step - loss: 0.7044 - accuracy: 0.8529 - val_loss: 3.1657 - val_accuracy: 0.4706\n",
            "Epoch 11/50\n",
            "3/3 [==============================] - 1s 394ms/step - loss: 0.8300 - accuracy: 0.7353 - val_loss: 2.9768 - val_accuracy: 0.4706\n",
            "Epoch 12/50\n",
            "3/3 [==============================] - 2s 588ms/step - loss: 0.5896 - accuracy: 0.7500 - val_loss: 1.6530 - val_accuracy: 0.4706\n",
            "Epoch 13/50\n",
            "3/3 [==============================] - 2s 588ms/step - loss: 0.1390 - accuracy: 0.9706 - val_loss: 1.0954 - val_accuracy: 0.7059\n",
            "Epoch 14/50\n",
            "3/3 [==============================] - 2s 391ms/step - loss: 0.2357 - accuracy: 0.8971 - val_loss: 1.0786 - val_accuracy: 0.7059\n",
            "Epoch 15/50\n",
            "3/3 [==============================] - 1s 394ms/step - loss: 0.3065 - accuracy: 0.8676 - val_loss: 0.9861 - val_accuracy: 0.7059\n",
            "Epoch 16/50\n",
            "3/3 [==============================] - 1s 392ms/step - loss: 0.2041 - accuracy: 0.8971 - val_loss: 0.9451 - val_accuracy: 0.6471\n",
            "Epoch 17/50\n",
            "3/3 [==============================] - 1s 389ms/step - loss: 0.1149 - accuracy: 0.9412 - val_loss: 1.2108 - val_accuracy: 0.5294\n",
            "Epoch 18/50\n",
            "3/3 [==============================] - 2s 628ms/step - loss: 0.1202 - accuracy: 0.9853 - val_loss: 1.5100 - val_accuracy: 0.4706\n",
            "Epoch 19/50\n",
            "3/3 [==============================] - 1s 390ms/step - loss: 0.1500 - accuracy: 0.9412 - val_loss: 1.3699 - val_accuracy: 0.4118\n",
            "Epoch 20/50\n",
            "3/3 [==============================] - 1s 381ms/step - loss: 0.0939 - accuracy: 0.9706 - val_loss: 1.1382 - val_accuracy: 0.4706\n",
            "Epoch 21/50\n",
            "3/3 [==============================] - 1s 386ms/step - loss: 0.0594 - accuracy: 1.0000 - val_loss: 1.1434 - val_accuracy: 0.5294\n",
            "Epoch 22/50\n",
            "3/3 [==============================] - 1s 392ms/step - loss: 0.0670 - accuracy: 0.9706 - val_loss: 1.1708 - val_accuracy: 0.5294\n",
            "Epoch 23/50\n",
            "3/3 [==============================] - 1s 388ms/step - loss: 0.0586 - accuracy: 0.9853 - val_loss: 1.1831 - val_accuracy: 0.4706\n",
            "Epoch 24/50\n",
            "3/3 [==============================] - 1s 390ms/step - loss: 0.0497 - accuracy: 0.9853 - val_loss: 1.2119 - val_accuracy: 0.4706\n",
            "Epoch 25/50\n",
            "3/3 [==============================] - 1s 397ms/step - loss: 0.0398 - accuracy: 1.0000 - val_loss: 1.3420 - val_accuracy: 0.4706\n",
            "Epoch 26/50\n",
            "3/3 [==============================] - 1s 391ms/step - loss: 0.0400 - accuracy: 1.0000 - val_loss: 1.3111 - val_accuracy: 0.4706\n",
            "Epoch 27/50\n",
            "3/3 [==============================] - 1s 377ms/step - loss: 0.0332 - accuracy: 1.0000 - val_loss: 1.2509 - val_accuracy: 0.4118\n",
            "Epoch 28/50\n",
            "3/3 [==============================] - 1s 389ms/step - loss: 0.0296 - accuracy: 1.0000 - val_loss: 1.2539 - val_accuracy: 0.4706\n",
            "Epoch 29/50\n",
            "3/3 [==============================] - 1s 390ms/step - loss: 0.0267 - accuracy: 1.0000 - val_loss: 1.2821 - val_accuracy: 0.3529\n",
            "Epoch 30/50\n",
            "3/3 [==============================] - 1s 386ms/step - loss: 0.0227 - accuracy: 1.0000 - val_loss: 1.3505 - val_accuracy: 0.4706\n",
            "Epoch 31/50\n",
            "3/3 [==============================] - 2s 561ms/step - loss: 0.0205 - accuracy: 1.0000 - val_loss: 1.3718 - val_accuracy: 0.4706\n",
            "Epoch 32/50\n",
            "3/3 [==============================] - 1s 389ms/step - loss: 0.0180 - accuracy: 1.0000 - val_loss: 1.3494 - val_accuracy: 0.4118\n",
            "Epoch 33/50\n",
            "3/3 [==============================] - 1s 393ms/step - loss: 0.0155 - accuracy: 1.0000 - val_loss: 1.3752 - val_accuracy: 0.4706\n",
            "Epoch 34/50\n",
            "3/3 [==============================] - 1s 397ms/step - loss: 0.0139 - accuracy: 1.0000 - val_loss: 1.4599 - val_accuracy: 0.4706\n",
            "Epoch 35/50\n",
            "3/3 [==============================] - 1s 383ms/step - loss: 0.0135 - accuracy: 1.0000 - val_loss: 1.4396 - val_accuracy: 0.4706\n",
            "Epoch 36/50\n",
            "3/3 [==============================] - 1s 403ms/step - loss: 0.0117 - accuracy: 1.0000 - val_loss: 1.3921 - val_accuracy: 0.4706\n",
            "Epoch 37/50\n",
            "3/3 [==============================] - 1s 390ms/step - loss: 0.0102 - accuracy: 1.0000 - val_loss: 1.4098 - val_accuracy: 0.4706\n",
            "Epoch 38/50\n",
            "3/3 [==============================] - 1s 415ms/step - loss: 0.0093 - accuracy: 1.0000 - val_loss: 1.3912 - val_accuracy: 0.5294\n",
            "Epoch 39/50\n",
            "3/3 [==============================] - 1s 396ms/step - loss: 0.0083 - accuracy: 1.0000 - val_loss: 1.3651 - val_accuracy: 0.5294\n",
            "Epoch 40/50\n",
            "3/3 [==============================] - 1s 400ms/step - loss: 0.0076 - accuracy: 1.0000 - val_loss: 1.3682 - val_accuracy: 0.5294\n",
            "Epoch 41/50\n",
            "3/3 [==============================] - 1s 401ms/step - loss: 0.0071 - accuracy: 1.0000 - val_loss: 1.3908 - val_accuracy: 0.5294\n",
            "Epoch 42/50\n",
            "3/3 [==============================] - 1s 394ms/step - loss: 0.0068 - accuracy: 1.0000 - val_loss: 1.4210 - val_accuracy: 0.5294\n",
            "Epoch 43/50\n",
            "3/3 [==============================] - 1s 389ms/step - loss: 0.0067 - accuracy: 1.0000 - val_loss: 1.4329 - val_accuracy: 0.5294\n",
            "Epoch 44/50\n",
            "3/3 [==============================] - 1s 399ms/step - loss: 0.0063 - accuracy: 1.0000 - val_loss: 1.3976 - val_accuracy: 0.5294\n",
            "Epoch 45/50\n",
            "3/3 [==============================] - 1s 399ms/step - loss: 0.0059 - accuracy: 1.0000 - val_loss: 1.3460 - val_accuracy: 0.5882\n",
            "Epoch 46/50\n",
            "3/3 [==============================] - 1s 394ms/step - loss: 0.0055 - accuracy: 1.0000 - val_loss: 1.3343 - val_accuracy: 0.5882\n",
            "Epoch 47/50\n",
            "3/3 [==============================] - 1s 398ms/step - loss: 0.0053 - accuracy: 1.0000 - val_loss: 1.3407 - val_accuracy: 0.5882\n",
            "Epoch 48/50\n",
            "3/3 [==============================] - 1s 393ms/step - loss: 0.0050 - accuracy: 1.0000 - val_loss: 1.3382 - val_accuracy: 0.5882\n",
            "Epoch 49/50\n",
            "3/3 [==============================] - 1s 392ms/step - loss: 0.0048 - accuracy: 1.0000 - val_loss: 1.3067 - val_accuracy: 0.5882\n",
            "Epoch 50/50\n",
            "3/3 [==============================] - 1s 404ms/step - loss: 0.0045 - accuracy: 1.0000 - val_loss: 1.3316 - val_accuracy: 0.5294\n"
          ]
        }
      ]
    },
    {
      "cell_type": "code",
      "source": [
        "plt.plot(history.history['accuracy'])\n",
        "plt.plot(history.history['val_accuracy'])\n",
        "plt.legend(['train','validation'])\n",
        "plt.show()"
      ],
      "metadata": {
        "colab": {
          "base_uri": "https://localhost:8080/",
          "height": 265
        },
        "id": "JUHt6q9x0Saf",
        "outputId": "629b5c96-5634-490e-9d95-e50f633417d9"
      },
      "execution_count": null,
      "outputs": [
        {
          "output_type": "display_data",
          "data": {
            "text/plain": [
              "<Figure size 432x288 with 1 Axes>"
            ],
            "image/png": "[encoded data removed]"
          },
          "metadata": {
            "needs_background": "light"
          }
        }
      ]
    },
    {
      "cell_type": "markdown",
      "source": [
        "**Basic Arch with 16 Batch Size and 25 Epochs**"
      ],
      "metadata": {
        "id": "l1GCcxUR1sJC"
      }
    },
    {
      "cell_type": "code",
      "source": [
        "model = models.Sequential()\n",
        "model.add(layers.Conv2D(32,(3,3), activation='relu', input_shape=(200,200,1)))\n",
        "model.add(layers.MaxPooling2D((2, 2)))\n",
        "model.add(layers.Flatten())\n",
        "model.add(layers.Dense(2, activation = \"sigmoid\"))\n",
        "model.summary()\n",
        "model.compile(optimizer='adam',loss=tf.keras.losses.CategoricalCrossentropy(),metrics=['accuracy'])\n",
        "history = model.fit(x_train,y_train,batch_size=16,epochs = 25,validation_data=(x_test,y_test))"
      ],
      "metadata": {
        "colab": {
          "base_uri": "https://localhost:8080/"
        },
        "id": "ykKcQojh1ryk",
        "outputId": "84dfdd8d-1a6e-48de-aeea-cc8a694fa661"
      },
      "execution_count": null,
      "outputs": [
        {
          "output_type": "stream",
          "name": "stdout",
          "text": [
            "Model: \"sequential_17\"\n",
            "_________________________________________________________________\n",
            " Layer (type)                Output Shape              Param #   \n",
            "=================================================================\n",
            " conv2d_14 (Conv2D)          (None, 198, 198, 32)      320       \n",
            "                                                                 \n",
            " max_pooling2d_12 (MaxPoolin  (None, 99, 99, 32)       0         \n",
            " g2D)                                                            \n",
            "                                                                 \n",
            " flatten_12 (Flatten)        (None, 313632)            0         \n",
            "                                                                 \n",
            " dense_12 (Dense)            (None, 2)                 627266    \n",
            "                                                                 \n",
            "=================================================================\n",
            "Total params: 627,586\n",
            "Trainable params: 627,586\n",
            "Non-trainable params: 0\n",
            "_________________________________________________________________\n",
            "Epoch 1/25\n",
            "5/5 [==============================] - 3s 318ms/step - loss: 2.2335 - accuracy: 0.6471 - val_loss: 5.4440 - val_accuracy: 0.4706\n",
            "Epoch 2/25\n",
            "5/5 [==============================] - 1s 276ms/step - loss: 2.3581 - accuracy: 0.6471 - val_loss: 1.5306 - val_accuracy: 0.5294\n",
            "Epoch 3/25\n",
            "5/5 [==============================] - 1s 274ms/step - loss: 1.1511 - accuracy: 0.5882 - val_loss: 1.1310 - val_accuracy: 0.5294\n",
            "Epoch 4/25\n",
            "5/5 [==============================] - 1s 275ms/step - loss: 0.5265 - accuracy: 0.7647 - val_loss: 0.9796 - val_accuracy: 0.5294\n",
            "Epoch 5/25\n",
            "5/5 [==============================] - 1s 271ms/step - loss: 0.3692 - accuracy: 0.8676 - val_loss: 1.0683 - val_accuracy: 0.6471\n",
            "Epoch 6/25\n",
            "5/5 [==============================] - 1s 271ms/step - loss: 0.1760 - accuracy: 0.9412 - val_loss: 1.2617 - val_accuracy: 0.4706\n",
            "Epoch 7/25\n",
            "5/5 [==============================] - 1s 269ms/step - loss: 0.2013 - accuracy: 0.8971 - val_loss: 1.0065 - val_accuracy: 0.4706\n",
            "Epoch 8/25\n",
            "5/5 [==============================] - 1s 271ms/step - loss: 0.0982 - accuracy: 0.9853 - val_loss: 0.9670 - val_accuracy: 0.4118\n",
            "Epoch 9/25\n",
            "5/5 [==============================] - 1s 269ms/step - loss: 0.0959 - accuracy: 0.9853 - val_loss: 0.9532 - val_accuracy: 0.4706\n",
            "Epoch 10/25\n",
            "5/5 [==============================] - 1s 270ms/step - loss: 0.0630 - accuracy: 1.0000 - val_loss: 1.1126 - val_accuracy: 0.4706\n",
            "Epoch 11/25\n",
            "5/5 [==============================] - 1s 274ms/step - loss: 0.0510 - accuracy: 1.0000 - val_loss: 1.1006 - val_accuracy: 0.4706\n",
            "Epoch 12/25\n",
            "5/5 [==============================] - 1s 277ms/step - loss: 0.0359 - accuracy: 1.0000 - val_loss: 1.1089 - val_accuracy: 0.4706\n",
            "Epoch 13/25\n",
            "5/5 [==============================] - 1s 276ms/step - loss: 0.0266 - accuracy: 1.0000 - val_loss: 1.1800 - val_accuracy: 0.4706\n",
            "Epoch 14/25\n",
            "5/5 [==============================] - 1s 274ms/step - loss: 0.0204 - accuracy: 1.0000 - val_loss: 1.2108 - val_accuracy: 0.5882\n",
            "Epoch 15/25\n",
            "5/5 [==============================] - 1s 275ms/step - loss: 0.0159 - accuracy: 1.0000 - val_loss: 1.2222 - val_accuracy: 0.5882\n",
            "Epoch 16/25\n",
            "5/5 [==============================] - 1s 279ms/step - loss: 0.0122 - accuracy: 1.0000 - val_loss: 1.2626 - val_accuracy: 0.4706\n",
            "Epoch 17/25\n",
            "5/5 [==============================] - 1s 273ms/step - loss: 0.0099 - accuracy: 1.0000 - val_loss: 1.2633 - val_accuracy: 0.5294\n",
            "Epoch 18/25\n",
            "5/5 [==============================] - 1s 277ms/step - loss: 0.0076 - accuracy: 1.0000 - val_loss: 1.3177 - val_accuracy: 0.4706\n",
            "Epoch 19/25\n",
            "5/5 [==============================] - 1s 284ms/step - loss: 0.0069 - accuracy: 1.0000 - val_loss: 1.2392 - val_accuracy: 0.5294\n",
            "Epoch 20/25\n",
            "5/5 [==============================] - 1s 280ms/step - loss: 0.0056 - accuracy: 1.0000 - val_loss: 1.3155 - val_accuracy: 0.5294\n",
            "Epoch 21/25\n",
            "5/5 [==============================] - 1s 276ms/step - loss: 0.0055 - accuracy: 1.0000 - val_loss: 1.3092 - val_accuracy: 0.5294\n",
            "Epoch 22/25\n",
            "5/5 [==============================] - 1s 280ms/step - loss: 0.0043 - accuracy: 1.0000 - val_loss: 1.2604 - val_accuracy: 0.5294\n",
            "Epoch 23/25\n",
            "5/5 [==============================] - 1s 278ms/step - loss: 0.0041 - accuracy: 1.0000 - val_loss: 1.3155 - val_accuracy: 0.5294\n",
            "Epoch 24/25\n",
            "5/5 [==============================] - 1s 282ms/step - loss: 0.0036 - accuracy: 1.0000 - val_loss: 1.3362 - val_accuracy: 0.5294\n",
            "Epoch 25/25\n",
            "5/5 [==============================] - 1s 279ms/step - loss: 0.0033 - accuracy: 1.0000 - val_loss: 1.3406 - val_accuracy: 0.5294\n"
          ]
        }
      ]
    },
    {
      "cell_type": "code",
      "source": [
        "plt.plot(history.history['accuracy'])\n",
        "plt.plot(history.history['val_accuracy'])\n",
        "plt.legend(['train','validation'])\n",
        "plt.show()"
      ],
      "metadata": {
        "colab": {
          "base_uri": "https://localhost:8080/",
          "height": 265
        },
        "id": "cCH5cft92CwA",
        "outputId": "1b3d5988-f4e5-488f-cec9-5d701445ac3c"
      },
      "execution_count": null,
      "outputs": [
        {
          "output_type": "display_data",
          "data": {
            "text/plain": [
              "<Figure size 432x288 with 1 Axes>"
            ],
            "image/png": "[encoded data removed]"
          },
          "metadata": {
            "needs_background": "light"
          }
        }
      ]
    }
  ],
  "metadata": {
    "colab": {
      "collapsed_sections": [],
      "name": "p2_normalized_rc_e1.ipynb",
      "provenance": []
    },
    "deepnote": {},
    "deepnote_execution_queue": [],
    "deepnote_notebook_id": "ce7a3b8d-4a70-4d2c-b208-fb3724dd532e",
    "kernelspec": {
      "display_name": "Python 3",
      "name": "python3"
    },
    "language_info": {
      "codemirror_mode": {
        "name": "ipython",
        "version": 3
      },
      "file_extension": ".py",
      "mimetype": "text/x-python",
      "name": "python",
      "nbconvert_exporter": "python",
      "pygments_lexer": "ipython3",
      "version": "3.8.12+"
    }
  },
  "nbformat": 4,
  "nbformat_minor": 0
}