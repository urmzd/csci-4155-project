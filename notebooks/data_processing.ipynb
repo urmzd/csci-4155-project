{
 "cells": [
  {
   "cell_type": "code",
   "execution_count": 12,
   "metadata": {},
   "outputs": [
    {
     "name": "stdout",
     "output_type": "stream",
     "text": [
      "/home/urmzd/src\n",
      "['/home/urmzd/src', '/home/urmzd/rabbit-classifier/src', '/home/urmzd/rabbit-classifier/notebooks/src', '/home/urmzd/rabbit-classifier/notebooks/src', '../src', '../src', '/home/urmzd/rabbit-classifier/notebooks', '/home/urmzd/.pyenv/versions/3.7-dev/lib/python37.zip', '/home/urmzd/.pyenv/versions/3.7-dev/lib/python3.7', '/home/urmzd/.pyenv/versions/3.7-dev/lib/python3.7/lib-dynload', '', '/home/urmzd/.pyenv/versions/3.7-dev/envs/rabbit-classifier/lib/python3.7/site-packages', '/home/urmzd/.pyenv/versions/3.7-dev/envs/rabbit-classifier/lib/python3.7/site-packages/IPython/extensions', '/home/urmzd/.ipython']\n"
     ]
    },
    {
     "ename": "ModuleNotFoundError",
     "evalue": "No module named 'src'",
     "output_type": "error",
     "traceback": [
      "\u001b[0;31m---------------------------------------------------------------------------\u001b[0m",
      "\u001b[0;31mModuleNotFoundError\u001b[0m                       Traceback (most recent call last)",
      "\u001b[0;32m/tmp/ipykernel_17142/643416111.py\u001b[0m in \u001b[0;36m<module>\u001b[0;34m\u001b[0m\n\u001b[1;32m     10\u001b[0m \u001b[0;34m\u001b[0m\u001b[0m\n\u001b[1;32m     11\u001b[0m \u001b[0;32mfrom\u001b[0m \u001b[0mpathlib\u001b[0m \u001b[0;32mimport\u001b[0m \u001b[0mPath\u001b[0m\u001b[0;34m\u001b[0m\u001b[0;34m\u001b[0m\u001b[0m\n\u001b[0;32m---> 12\u001b[0;31m \u001b[0;32mfrom\u001b[0m \u001b[0msrc\u001b[0m\u001b[0;34m.\u001b[0m\u001b[0mdata\u001b[0m\u001b[0;34m.\u001b[0m\u001b[0mdata_extractor\u001b[0m \u001b[0;32mimport\u001b[0m \u001b[0mget_image\u001b[0m\u001b[0;34m\u001b[0m\u001b[0;34m\u001b[0m\u001b[0m\n\u001b[0m\u001b[1;32m     13\u001b[0m \u001b[0;34m\u001b[0m\u001b[0m\n\u001b[1;32m     14\u001b[0m \u001b[0msingle_image_path\u001b[0m \u001b[0;34m=\u001b[0m \u001b[0mPath\u001b[0m\u001b[0;34m(\u001b[0m\u001b[0;34m\"/tmp/images/1200-547226928-eastern-cottontail-sitting-in-flower-garden.jpg.png\"\u001b[0m\u001b[0;34m)\u001b[0m\u001b[0;34m\u001b[0m\u001b[0;34m\u001b[0m\u001b[0m\n",
      "\u001b[0;31mModuleNotFoundError\u001b[0m: No module named 'src'"
     ]
    }
   ],
   "source": [
    "import sys\n",
    "import os\n",
    "import pathlib\n",
    "\n",
    "cwd = pathlib.Path(os.getcwd()).parent\n",
    "src_path = cwd\n",
    "print(src_path)\n",
    "sys.path.insert(0, str(src_path))\n",
    "print(sys.path)\n",
    "\n",
    "from pathlib import Path\n",
    "from src.data.data_extractor import get_image\n",
    "\n",
    "single_image_path = Path(\"/tmp/images/1200-547226928-eastern-cottontail-sitting-in-flower-garden.jpg.png\")\n",
    "\n",
    "image = get_image(single_image_path)"
   ]
  }
 ],
 "metadata": {
  "interpreter": {
   "hash": "dd43d4582b21f9ab673c3df3991bbcbe6877e7ead64f02da257fc74ef9e78688"
  },
  "kernelspec": {
   "display_name": "Python 3.7.13 64-bit ('rabbit-classifier')",
   "language": "python",
   "name": "python3"
  },
  "language_info": {
   "codemirror_mode": {
    "name": "ipython",
    "version": 3
   },
   "file_extension": ".py",
   "mimetype": "text/x-python",
   "name": "python",
   "nbconvert_exporter": "python",
   "pygments_lexer": "ipython3",
   "version": "3.7.13+"
  },
  "orig_nbformat": 4
 },
 "nbformat": 4,
 "nbformat_minor": 2
}
