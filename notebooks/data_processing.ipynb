{
 "cells": [
  {
   "cell_type": "code",
   "execution_count": 1,
   "metadata": {},
   "outputs": [],
   "source": [
    "from pathlib import Path\n",
    "single_image_path = Path(\"/tmp/images/1200-547226928-eastern-cottontail-sitting-in-flower-garden.jpg.png\")"
   ]
  }
 ],
 "metadata": {
  "interpreter": {
   "hash": "dd43d4582b21f9ab673c3df3991bbcbe6877e7ead64f02da257fc74ef9e78688"
  },
  "kernelspec": {
   "display_name": "Python 3.7.13 64-bit ('rabbit-classifier')",
   "language": "python",
   "name": "python3"
  },
  "language_info": {
   "codemirror_mode": {
    "name": "ipython",
    "version": 3
   },
   "file_extension": ".py",
   "mimetype": "text/x-python",
   "name": "python",
   "nbconvert_exporter": "python",
   "pygments_lexer": "ipython3",
   "version": "3.7.13+"
  },
  "orig_nbformat": 4
 },
 "nbformat": 4,
 "nbformat_minor": 2
}
