{
 "cells": [
  {
   "cell_type": "markdown",
   "metadata": {
    "id": "9ucDgngtq-yi"
   },
   "source": [
    "# Data Exploration"
   ]
  },
  {
   "cell_type": "code",
   "execution_count": 3,
   "metadata": {
    "cell_id": "00001-e041e215-eab8-4f7f-a991-5445374e65c7",
    "colab": {
     "base_uri": "https://localhost:8080/"
    },
    "deepnote_cell_height": 170,
    "deepnote_cell_type": "code",
    "deepnote_to_be_reexecuted": false,
    "execution_millis": 1715,
    "execution_start": 1647201571498,
    "id": "UC4X69CKSb8l",
    "outputId": "d4acccd5-ee52-44e6-85f9-e4cf7d1f2d5c",
    "scrolled": true,
    "source_hash": "f1565328"
   },
   "outputs": [
    {
     "ename": "SyntaxError",
     "evalue": "invalid syntax (<ipython-input-3-79f8352f766e>, line 2)",
     "output_type": "error",
     "traceback": [
      "\u001b[1;36m  File \u001b[1;32m\"<ipython-input-3-79f8352f766e>\"\u001b[1;36m, line \u001b[1;32m2\u001b[0m\n\u001b[1;33m    curl \"https://raw.githubusercontent.com/urmzd/rabbit-classifier/main/resources/data.csv\" --output /tmp/data.csv\u001b[0m\n\u001b[1;37m         ^\u001b[0m\n\u001b[1;31mSyntaxError\u001b[0m\u001b[1;31m:\u001b[0m invalid syntax\n"
     ]
    }
   ],
   "source": [
    "%mkdir -p /tmp\n",
    "%curl https://raw.githubusercontent.com/urmzd/rabbit-classifier/main/resources/data.csv --output /tmp/data.csv"
   ]
  },
  {
   "cell_type": "code",
   "execution_count": null,
   "metadata": {
    "cell_id": "00003-7b710265-0bcd-4077-b1d0-dcd3358647dd",
    "colab": {
     "base_uri": "https://localhost:8080/",
     "height": 206
    },
    "deepnote_cell_height": 747,
    "deepnote_cell_type": "code",
    "deepnote_to_be_reexecuted": false,
    "execution_millis": 115,
    "execution_start": 1647201580226,
    "id": "Qxr0rretS_9G",
    "outputId": "6de8f1cb-8200-4b30-d673-8c43a9647a8e",
    "source_hash": "e35681e9"
   },
   "outputs": [],
   "source": [
    "import pandas as pd\n",
    "import requests\n",
    "import re\n",
    "import pathlib\n",
    "from loguru import logger\n",
    "\n",
    "DATA_PATH=\"/tmp/data.csv\"\n",
    "IMAGE_PATH=\"/tmp/images\"\n",
    "\n",
    "def get_data():\n",
    "  df = pd.read_csv(DATA_PATH, usecols=range(2))\n",
    "  return df\n",
    "\n",
    "def download_image(link: str) -> pathlib.Path:\n",
    "  # view  : https://regex101.com/r/3bhDMM/1\n",
    "  # delete: https://regex101.com/delete/N5sItwbrPF73ZllTnRDltxZ1\n",
    "  file_name_regex = re.compile(r\".*\\/(.*(\\.(jpeg|jpg|png))?)\\??.*\", flags=re.IGNORECASE)\n",
    "  regex_matches = file_name_regex.match(link)\n",
    "\n",
    "  if not regex_matches:\n",
    "    raise Exception(f\"Failed to match file_name for link {link}\")\n",
    "\n",
    "  if len(regex_matches.groups()) < 3:\n",
    "    file_name = regex_matches.group(1) + \".png\"\n",
    "  else:\n",
    "    file_name = regex_matches.group(1)\n",
    "\n",
    "  content_path = pathlib.Path(IMAGE_PATH)\n",
    "  content_path.mkdir(parents=True, exist_ok=True)\n",
    "\n",
    "  file_path = content_path / file_name\n",
    "\n",
    "  if file_path.exists():\n",
    "    return file_path\n",
    "\n",
    "  image_request_headers={\n",
    "      'User-Agent': 'Mozilla/5.0 (Macintosh; Intel Mac OS X 10_11_5) AppleWebKit/537.36 (KHTML, like Gecko) Chrome/50.0.2661.102 Safari/537.36'\n",
    "  }\n",
    "\n",
    "  image = requests.get(link, headers=image_request_headers)\n",
    "\n",
    "  with open(file_path, \"wb\") as handle:\n",
    "    handle.write(image.content)\n",
    "\n",
    "  return file_path\n",
    "\n",
    "df = get_data()\n",
    "df.head()"
   ]
  },
  {
   "cell_type": "code",
   "execution_count": null,
   "metadata": {
    "cell_id": "00004-c2dea932-9f3e-4e37-99fd-faf1b762a37b",
    "deepnote_cell_height": 387.1875,
    "deepnote_cell_type": "code",
    "deepnote_to_be_reexecuted": false,
    "execution_millis": 592,
    "execution_start": 1647201633464,
    "id": "-zbmiVyDmmvU",
    "source_hash": "1f483867"
   },
   "outputs": [],
   "source": [
    "import cv2\n",
    "from typing import NewType, Tuple, List\n",
    "import numpy as np\n",
    "\n",
    "Image = NewType('Image', np.array)\n",
    "Label = NewType('Label', str)\n",
    "ImageLabelPair = Tuple[Image, Label]\n",
    "\n",
    "def get_image(file_path: pathlib.Path, show=False) -> Image:\n",
    "  image = cv2.imread(str(file_path))\n",
    "\n",
    "  if show:\n",
    "    plt.imshow(image)\n",
    "    \n",
    "  return Image(image)\n",
    "\n",
    "RawX = NewType('RawX', List[Image])\n",
    "RawY = NewType('RawY', np.ndarray)\n",
    "\n",
    "def get_x_y(raw_data: pd.DataFrame) -> Tuple[RawX, RawY]:\n",
    "  y = raw_data.iloc[:, 0].to_numpy()\n",
    "  y = y.reshape(-1, 1)\n",
    "\n",
    "  x_links = raw_data.iloc[:, 1].tolist()\n",
    "  x_paths = [download_image(link) for link in x_links]\n",
    "  x = [get_image(path) for path in x_paths]\n",
    "\n",
    "  return RawX(x), RawY(y)"
   ]
  },
  {
   "cell_type": "code",
   "execution_count": null,
   "metadata": {
    "colab": {
     "base_uri": "https://localhost:8080/",
     "height": 582
    },
    "id": "Y4YskbE22ehz",
    "outputId": "b0e4a2f0-e2c2-4a62-da39-adbde54171a6"
   },
   "outputs": [],
   "source": [
    "from sklearn.preprocessing import OneHotEncoder\n",
    "import albumentations as A\n",
    "import tensorflow as tf\n",
    "import matplotlib.pyplot as plt\n",
    "import random\n",
    "\n",
    "random.seed(42)\n",
    "\n",
    "\n",
    "def get_x_y_preprocessors(x: RawX, y: RawY):  \n",
    "  y_encoder = OneHotEncoder(sparse=False).fit(y)\n",
    "\n",
    "  x_means = []\n",
    "  x_stds = []\n",
    "\n",
    "  for feature_set in x:\n",
    "    greyscale_feature_set = feature_set\n",
    "    mean = np.mean(greyscale_feature_set, axis=(0,1))\n",
    "    std = np.std(greyscale_feature_set, axis=(0,1))\n",
    "    x_means.append(mean)\n",
    "    x_stds.append(std)\n",
    "\n",
    "  norm_mean = np.mean(x_means, axis=0)\n",
    "  norm_std = np.mean(x_stds, axis=0)\n",
    "\n",
    "  logger.info(f\"Normalization Mean: {norm_mean}\")\n",
    "  logger.info(f\"Normalization Std: {norm_std}\")\n",
    "\n",
    "  x_encoder = A.Compose([\n",
    "                        #  A.ToGray(), \n",
    "                         A.LongestMaxSize(200), \n",
    "                         A.PadIfNeeded(min_height=200, min_width=200), \n",
    "                         A.Normalize(mean=norm_mean, std=norm_std),\n",
    "                         ])\n",
    "\n",
    "  return x_encoder, y_encoder\n",
    "\n",
    "def get_processed_x_y(x: RawX, y: RawY):\n",
    "\n",
    "  x_encoder, y_encoder = get_x_y_preprocessors(x, y)\n",
    "\n",
    "  x_encoded = []\n",
    "\n",
    "  for sample in x:\n",
    "    x_data = {\"image\": sample}\n",
    "    encoded_object = x_encoder(**x_data)\n",
    "    transformed_image = encoded_object[\"image\"]\n",
    "    # normalized_transformed_image = np.clip(transformed_image, 0., 1.)\n",
    "    normalized_transformed_image = transformed_image.astype(np.uint8)\n",
    "    x_encoded.append(normalized_transformed_image)\n",
    "\n",
    "  y_transformed: np.ndarray = y_encoder.transform(y)\n",
    "\n",
    "  return x_encoded, y_transformed"
   ]
  },
  {
   "cell_type": "code",
   "execution_count": null,
   "metadata": {},
   "outputs": [],
   "source": [
    "data = get_data()\n",
    "x, y = get_x_y(data)"
   ]
  },
  {
   "cell_type": "code",
   "execution_count": null,
   "metadata": {},
   "outputs": [],
   "source": [
    "image = get_processed_x_y(x, y)[0][-1]\n",
    "logger.info(f\"MIN: , {np.min(image)}\")\n",
    "logger.info(f\"MAX: , {np.max(image)}\")\n",
    "plt.imshow(image)"
   ]
  },
  {
   "cell_type": "markdown",
   "metadata": {
    "id": "qJQbNPjTrGfc"
   },
   "source": [
    "# Data Processing"
   ]
  }
 ],
 "metadata": {
  "colab": {
   "collapsed_sections": [],
   "include_colab_link": true,
   "name": "rc-e1.ipynb",
   "provenance": []
  },
  "deepnote": {},
  "deepnote_execution_queue": [],
  "deepnote_notebook_id": "ce7a3b8d-4a70-4d2c-b208-fb3724dd532e",
  "kernelspec": {
   "display_name": "Python 3",
   "language": "python",
   "name": "python3"
  },
  "language_info": {
   "codemirror_mode": {
    "name": "ipython",
    "version": 3
   },
   "file_extension": ".py",
   "mimetype": "text/x-python",
   "name": "python",
   "nbconvert_exporter": "python",
   "pygments_lexer": "ipython3",
   "version": "3.8.5"
  }
 },
 "nbformat": 4,
 "nbformat_minor": 1
}
