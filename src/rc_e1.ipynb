{
  "cells": [
    {
      "cell_type": "markdown",
      "metadata": {
        "id": "view-in-github",
        "colab_type": "text"
      },
      "source": [
        "<a href=\"https://colab.research.google.com/github/urmzd/rabbit-classifier/blob/main/src/rc_e1.ipynb\" target=\"_parent\"><img src=\"https://colab.research.google.com/assets/colab-badge.svg\" alt=\"Open In Colab\"/></a>"
      ]
    },
    {
      "cell_type": "code",
      "source": [
        "!pip install loguru"
      ],
      "metadata": {
        "colab": {
          "base_uri": "https://localhost:8080/"
        },
        "id": "uVq5J1zc1HcX",
        "outputId": "f2ac9d4a-7000-4161-da35-c6d49c03bcd5"
      },
      "execution_count": 3,
      "outputs": [
        {
          "output_type": "stream",
          "name": "stdout",
          "text": [
            "Collecting loguru\n",
            "  Downloading loguru-0.6.0-py3-none-any.whl (58 kB)\n",
            "\u001b[?25l\r\u001b[K     |█████▋                          | 10 kB 12.3 MB/s eta 0:00:01\r\u001b[K     |███████████▎                    | 20 kB 11.1 MB/s eta 0:00:01\r\u001b[K     |████████████████▉               | 30 kB 6.7 MB/s eta 0:00:01\r\u001b[K     |██████████████████████▌         | 40 kB 6.1 MB/s eta 0:00:01\r\u001b[K     |████████████████████████████    | 51 kB 3.2 MB/s eta 0:00:01\r\u001b[K     |████████████████████████████████| 58 kB 2.1 MB/s \n",
            "\u001b[?25hInstalling collected packages: loguru\n",
            "Successfully installed loguru-0.6.0\n"
          ]
        }
      ]
    },
    {
      "cell_type": "markdown",
      "source": [
        "# Data Exploration"
      ],
      "metadata": {
        "id": "9ucDgngtq-yi"
      }
    },
    {
      "cell_type": "code",
      "metadata": {
        "colab": {
          "base_uri": "https://localhost:8080/"
        },
        "id": "UC4X69CKSb8l",
        "outputId": "d4acccd5-ee52-44e6-85f9-e4cf7d1f2d5c",
        "cell_id": "00001-e041e215-eab8-4f7f-a991-5445374e65c7",
        "deepnote_to_be_reexecuted": false,
        "source_hash": "f1565328",
        "execution_start": 1647201571498,
        "execution_millis": 1715,
        "deepnote_cell_type": "code",
        "deepnote_cell_height": 170
      },
      "source": [
        "!mkdir -p /tmp\n",
        "!curl https://raw.githubusercontent.com/urmzd/rabbit-classifier/main/resources/data.csv --output /tmp/data.csv"
      ],
      "execution_count": 4,
      "outputs": [
        {
          "output_type": "stream",
          "name": "stdout",
          "text": [
            "  % Total    % Received % Xferd  Average Speed   Time    Time     Time  Current\n",
            "                                 Dload  Upload   Total   Spent    Left  Speed\n",
            "100  9455  100  9455    0     0  37371      0 --:--:-- --:--:-- --:--:-- 37371\n"
          ]
        }
      ]
    },
    {
      "cell_type": "code",
      "metadata": {
        "id": "Qxr0rretS_9G",
        "cell_id": "00003-7b710265-0bcd-4077-b1d0-dcd3358647dd",
        "deepnote_to_be_reexecuted": false,
        "source_hash": "e35681e9",
        "execution_start": 1647201580226,
        "execution_millis": 115,
        "deepnote_cell_type": "code",
        "deepnote_cell_height": 747,
        "colab": {
          "base_uri": "https://localhost:8080/",
          "height": 206
        },
        "outputId": "6de8f1cb-8200-4b30-d673-8c43a9647a8e"
      },
      "source": [
        "import pandas as pd\n",
        "import requests\n",
        "import os\n",
        "import re\n",
        "import pathlib\n",
        "from loguru import logger\n",
        "\n",
        "DATA_PATH=\"/tmp/data.csv\"\n",
        "IMAGE_PATH=\"/tmp/images\"\n",
        "\n",
        "def get_data():\n",
        "  df = pd.read_csv(DATA_PATH, usecols=range(2))\n",
        "  return df\n",
        "\n",
        "def download_image(link: str) -> pathlib.Path:\n",
        "  # view  : https://regex101.com/r/3bhDMM/1\n",
        "  # delete: https://regex101.com/delete/N5sItwbrPF73ZllTnRDltxZ1\n",
        "  file_name_regex = re.compile(r\".*\\/(.*(\\.(jpeg|jpg|png))?)\\??.*\", flags=re.IGNORECASE)\n",
        "  regex_matches = file_name_regex.match(link)\n",
        "\n",
        "  if not regex_matches:\n",
        "    raise Exception(f\"Failed to match file_name for link {link}\")\n",
        "\n",
        "  if len(regex_matches.groups()) < 3:\n",
        "    file_name = regex_matches.group(1) + \".png\"\n",
        "  else:\n",
        "    file_name = regex_matches.group(1)\n",
        "\n",
        "  content_path = pathlib.Path(IMAGE_PATH)\n",
        "  content_path.mkdir(parents=True, exist_ok=True)\n",
        "\n",
        "  file_path = content_path / file_name\n",
        "\n",
        "  if file_path.exists():\n",
        "    return file_path\n",
        "\n",
        "  image_request_headers={\n",
        "      'User-Agent': 'Mozilla/5.0 (Macintosh; Intel Mac OS X 10_11_5) AppleWebKit/537.36 (KHTML, like Gecko) Chrome/50.0.2661.102 Safari/537.36'\n",
        "  }\n",
        "\n",
        "  image = requests.get(link, headers=image_request_headers)\n",
        "\n",
        "\n",
        "  with open(file_path, \"wb\") as handle:\n",
        "    handle.write(image.content)\n",
        "\n",
        "  return file_path\n",
        "\n",
        "df = get_data()\n",
        "df.head()"
      ],
      "execution_count": 5,
      "outputs": [
        {
          "output_type": "execute_result",
          "data": {
            "text/plain": [
              "    label                                               link\n",
              "0  rabbit  https://upload.wikimedia.org/wikipedia/commons...\n",
              "1  rabbit  https://upload.wikimedia.org/wikipedia/commons...\n",
              "2  rabbit  https://www.massaudubon.org/var/ezdemo_site/st...\n",
              "3  rabbit  https://www.welcomewildlife.com/wp-content/upl...\n",
              "4  rabbit  https://i.natgeofe.com/k/58df97a7-5c47-44b8-97..."
            ],
            "text/html": [
              "\n",
              "  <div id=\"df-21810ab2-0f43-433c-9883-b972ac4d28b0\">\n",
              "    <div class=\"colab-df-container\">\n",
              "      <div>\n",
              "<style scoped>\n",
              "    .dataframe tbody tr th:only-of-type {\n",
              "        vertical-align: middle;\n",
              "    }\n",
              "\n",
              "    .dataframe tbody tr th {\n",
              "        vertical-align: top;\n",
              "    }\n",
              "\n",
              "    .dataframe thead th {\n",
              "        text-align: right;\n",
              "    }\n",
              "</style>\n",
              "<table border=\"1\" class=\"dataframe\">\n",
              "  <thead>\n",
              "    <tr style=\"text-align: right;\">\n",
              "      <th></th>\n",
              "      <th>label</th>\n",
              "      <th>link</th>\n",
              "    </tr>\n",
              "  </thead>\n",
              "  <tbody>\n",
              "    <tr>\n",
              "      <th>0</th>\n",
              "      <td>rabbit</td>\n",
              "      <td>https://upload.wikimedia.org/wikipedia/commons...</td>\n",
              "    </tr>\n",
              "    <tr>\n",
              "      <th>1</th>\n",
              "      <td>rabbit</td>\n",
              "      <td>https://upload.wikimedia.org/wikipedia/commons...</td>\n",
              "    </tr>\n",
              "    <tr>\n",
              "      <th>2</th>\n",
              "      <td>rabbit</td>\n",
              "      <td>https://www.massaudubon.org/var/ezdemo_site/st...</td>\n",
              "    </tr>\n",
              "    <tr>\n",
              "      <th>3</th>\n",
              "      <td>rabbit</td>\n",
              "      <td>https://www.welcomewildlife.com/wp-content/upl...</td>\n",
              "    </tr>\n",
              "    <tr>\n",
              "      <th>4</th>\n",
              "      <td>rabbit</td>\n",
              "      <td>https://i.natgeofe.com/k/58df97a7-5c47-44b8-97...</td>\n",
              "    </tr>\n",
              "  </tbody>\n",
              "</table>\n",
              "</div>\n",
              "      <button class=\"colab-df-convert\" onclick=\"convertToInteractive('df-21810ab2-0f43-433c-9883-b972ac4d28b0')\"\n",
              "              title=\"Convert this dataframe to an interactive table.\"\n",
              "              style=\"display:none;\">\n",
              "        \n",
              "  <svg xmlns=\"http://www.w3.org/2000/svg\" height=\"24px\"viewBox=\"0 0 24 24\"\n",
              "       width=\"24px\">\n",
              "    <path d=\"M0 0h24v24H0V0z\" fill=\"none\"/>\n",
              "    <path d=\"M18.56 5.44l.94 2.06.94-2.06 2.06-.94-2.06-.94-.94-2.06-.94 2.06-2.06.94zm-11 1L8.5 8.5l.94-2.06 2.06-.94-2.06-.94L8.5 2.5l-.94 2.06-2.06.94zm10 10l.94 2.06.94-2.06 2.06-.94-2.06-.94-.94-2.06-.94 2.06-2.06.94z\"/><path d=\"M17.41 7.96l-1.37-1.37c-.4-.4-.92-.59-1.43-.59-.52 0-1.04.2-1.43.59L10.3 9.45l-7.72 7.72c-.78.78-.78 2.05 0 2.83L4 21.41c.39.39.9.59 1.41.59.51 0 1.02-.2 1.41-.59l7.78-7.78 2.81-2.81c.8-.78.8-2.07 0-2.86zM5.41 20L4 18.59l7.72-7.72 1.47 1.35L5.41 20z\"/>\n",
              "  </svg>\n",
              "      </button>\n",
              "      \n",
              "  <style>\n",
              "    .colab-df-container {\n",
              "      display:flex;\n",
              "      flex-wrap:wrap;\n",
              "      gap: 12px;\n",
              "    }\n",
              "\n",
              "    .colab-df-convert {\n",
              "      background-color: #E8F0FE;\n",
              "      border: none;\n",
              "      border-radius: 50%;\n",
              "      cursor: pointer;\n",
              "      display: none;\n",
              "      fill: #1967D2;\n",
              "      height: 32px;\n",
              "      padding: 0 0 0 0;\n",
              "      width: 32px;\n",
              "    }\n",
              "\n",
              "    .colab-df-convert:hover {\n",
              "      background-color: #E2EBFA;\n",
              "      box-shadow: 0px 1px 2px rgba(60, 64, 67, 0.3), 0px 1px 3px 1px rgba(60, 64, 67, 0.15);\n",
              "      fill: #174EA6;\n",
              "    }\n",
              "\n",
              "    [theme=dark] .colab-df-convert {\n",
              "      background-color: #3B4455;\n",
              "      fill: #D2E3FC;\n",
              "    }\n",
              "\n",
              "    [theme=dark] .colab-df-convert:hover {\n",
              "      background-color: #434B5C;\n",
              "      box-shadow: 0px 1px 3px 1px rgba(0, 0, 0, 0.15);\n",
              "      filter: drop-shadow(0px 1px 2px rgba(0, 0, 0, 0.3));\n",
              "      fill: #FFFFFF;\n",
              "    }\n",
              "  </style>\n",
              "\n",
              "      <script>\n",
              "        const buttonEl =\n",
              "          document.querySelector('#df-21810ab2-0f43-433c-9883-b972ac4d28b0 button.colab-df-convert');\n",
              "        buttonEl.style.display =\n",
              "          google.colab.kernel.accessAllowed ? 'block' : 'none';\n",
              "\n",
              "        async function convertToInteractive(key) {\n",
              "          const element = document.querySelector('#df-21810ab2-0f43-433c-9883-b972ac4d28b0');\n",
              "          const dataTable =\n",
              "            await google.colab.kernel.invokeFunction('convertToInteractive',\n",
              "                                                     [key], {});\n",
              "          if (!dataTable) return;\n",
              "\n",
              "          const docLinkHtml = 'Like what you see? Visit the ' +\n",
              "            '<a target=\"_blank\" href=https://colab.research.google.com/notebooks/data_table.ipynb>data table notebook</a>'\n",
              "            + ' to learn more about interactive tables.';\n",
              "          element.innerHTML = '';\n",
              "          dataTable['output_type'] = 'display_data';\n",
              "          await google.colab.output.renderOutput(dataTable, element);\n",
              "          const docLink = document.createElement('div');\n",
              "          docLink.innerHTML = docLinkHtml;\n",
              "          element.appendChild(docLink);\n",
              "        }\n",
              "      </script>\n",
              "    </div>\n",
              "  </div>\n",
              "  "
            ]
          },
          "metadata": {},
          "execution_count": 5
        }
      ]
    },
    {
      "cell_type": "code",
      "metadata": {
        "colab": {
          "base_uri": "https://localhost:8080/"
        },
        "id": "-zbmiVyDmmvU",
        "outputId": "36ba66d9-1e98-4777-83ec-cc34d482a138",
        "cell_id": "00004-c2dea932-9f3e-4e37-99fd-faf1b762a37b",
        "deepnote_to_be_reexecuted": false,
        "source_hash": "1f483867",
        "execution_start": 1647201633464,
        "execution_millis": 592,
        "deepnote_cell_type": "code",
        "deepnote_cell_height": 387.1875
      },
      "source": [
        "import cv2\n",
        "from typing import NewType, Optional, Tuple, List\n",
        "import numpy as np\n",
        "from google.colab.patches import cv2_imshow\n",
        "\n",
        "Image = NewType('Image', np.array)\n",
        "Label = NewType('Label', str)\n",
        "ImageLabelPair = Tuple[Image, Label]\n",
        "\n",
        "def get_image(file_path: pathlib.Path, show=False) -> Image:\n",
        "  image = cv2.imread(str(file_path))\n",
        "\n",
        "  if show:\n",
        "    cv2_imshow(image)\n",
        "    \n",
        "  return Image(image)\n",
        "\n",
        "RawX = NewType('RawX', List[Image])\n",
        "RawY = NewType('RawY', np.ndarray)\n",
        "\n",
        "def get_x_y(raw_data: pd.DataFrame) -> Tuple[RawX, RawY]:\n",
        "  y = df.iloc[:, 0].to_numpy()\n",
        "  logger.info(y)\n",
        "  y = y.reshape(-1, 1)\n",
        "\n",
        "  x_links = df.iloc[:, 1].tolist()\n",
        "  x_paths = [download_image(link) for link in x_links]\n",
        "  x = [get_image(path) for path in x_paths]\n",
        "\n",
        "  return RawX(x), RawY(y)\n",
        "\n",
        "get_x_y(get_data())[1].shape"
      ],
      "execution_count": 6,
      "outputs": [
        {
          "output_type": "stream",
          "name": "stderr",
          "text": [
            "2022-03-14 21:55:31.415 | INFO     | __main__:get_x_y:23 - ['rabbit' 'rabbit' 'rabbit' 'rabbit' 'rabbit' 'rabbit' 'rabbit' 'rabbit'\n",
            " 'rabbit' 'rabbit' 'rabbit' 'rabbit' 'rabbit' 'rabbit' 'rabbit' 'rabbit'\n",
            " 'rabbit' 'rabbit' 'rabbit' 'rabbit' 'rabbit' 'rabbit' 'rabbit' 'rabbit'\n",
            " 'rabbit' 'rabbit' 'rabbit' 'rabbit' 'rabbit' 'rabbit' 'rabbit' 'rabbit'\n",
            " 'rabbit' 'rabbit' 'rabbit' 'rabbit' 'rabbit' 'rabbit' 'rabbit' 'rabbit'\n",
            " 'rabbit' 'rabbit' 'rabbit' 'rabbit' 'rabbit' 'rabbit' 'rabbit' 'hare'\n",
            " 'hare' 'hare' 'hare' 'hare' 'hare' 'hare' 'hare' 'hare' 'hare' 'hare'\n",
            " 'hare' 'hare' 'hare' 'hare' 'hare' 'hare' 'hare' 'hare' 'hare' 'hare'\n",
            " 'hare' 'hare' 'hare' 'hare' 'hare' 'hare' 'hare' 'hare' 'hare' 'hare'\n",
            " 'hare' 'hare' 'hare' 'hare' 'hare' 'hare' 'hare' 'hare']\n"
          ]
        },
        {
          "output_type": "execute_result",
          "data": {
            "text/plain": [
              "(86, 1)"
            ]
          },
          "metadata": {},
          "execution_count": 6
        }
      ]
    },
    {
      "cell_type": "code",
      "source": [
        "from albumentations.augmentations.transforms import LongestMaxSize\n",
        "from sklearn.preprocessing import OneHotEncoder\n",
        "import albumentations as A\n",
        "\n",
        "\n",
        "def get_x_y_preprocessors(y: RawY):\n",
        "  logger.info(y.shape)\n",
        "  \n",
        "  encoder = OneHotEncoder(sparse=False).fit(y)\n",
        "  transform = A.Compose([A.ToGray(p=1.0), LongestMaxSize(600)])\n",
        "\n",
        "  return transform, encoder\n",
        "\n",
        "x,y = get_x_y(get_data())\n",
        "\n",
        "def get_processed_x_y(X: RawX, Y: RawY):\n",
        "\n",
        "  x_encoder,y_encoder = get_x_y_preprocessors(Y)\n",
        "\n",
        "  min_width = float('inf')\n",
        "  for x_sample in x:\n",
        "    x_data = {\"image\": x_sample}\n",
        "    encoded_object = x_encoder(**x_data)\n",
        "    transformed_image = encoded_object[\"image\"]\n",
        "    _, width, _ = transformed_image.shape\n",
        "    logger.info(width)\n",
        "    # cv2_imshow(transformed_image)\n",
        "    min_width = min(width, min_width)\n",
        "\n",
        "  encoder = OneHotEncoder(sparse=False)\n",
        "  y_transformed: np.ndarray = encoder.fit_transform(y)\n",
        "\n",
        "get_processed_x_y(x,y)"
      ],
      "metadata": {
        "colab": {
          "base_uri": "https://localhost:8080/"
        },
        "id": "Y4YskbE22ehz",
        "outputId": "6e53e411-5f6e-412c-818d-43fbf344ee2d"
      },
      "execution_count": 14,
      "outputs": [
        {
          "output_type": "stream",
          "name": "stderr",
          "text": [
            "2022-03-14 22:05:05.880 | INFO     | __main__:get_x_y:23 - ['rabbit' 'rabbit' 'rabbit' 'rabbit' 'rabbit' 'rabbit' 'rabbit' 'rabbit'\n",
            " 'rabbit' 'rabbit' 'rabbit' 'rabbit' 'rabbit' 'rabbit' 'rabbit' 'rabbit'\n",
            " 'rabbit' 'rabbit' 'rabbit' 'rabbit' 'rabbit' 'rabbit' 'rabbit' 'rabbit'\n",
            " 'rabbit' 'rabbit' 'rabbit' 'rabbit' 'rabbit' 'rabbit' 'rabbit' 'rabbit'\n",
            " 'rabbit' 'rabbit' 'rabbit' 'rabbit' 'rabbit' 'rabbit' 'rabbit' 'rabbit'\n",
            " 'rabbit' 'rabbit' 'rabbit' 'rabbit' 'rabbit' 'rabbit' 'rabbit' 'hare'\n",
            " 'hare' 'hare' 'hare' 'hare' 'hare' 'hare' 'hare' 'hare' 'hare' 'hare'\n",
            " 'hare' 'hare' 'hare' 'hare' 'hare' 'hare' 'hare' 'hare' 'hare' 'hare'\n",
            " 'hare' 'hare' 'hare' 'hare' 'hare' 'hare' 'hare' 'hare' 'hare' 'hare'\n",
            " 'hare' 'hare' 'hare' 'hare' 'hare' 'hare' 'hare' 'hare']\n",
            "2022-03-14 22:05:08.605 | INFO     | __main__:get_x_y_preprocessors:7 - (86, 1)\n",
            "2022-03-14 22:05:08.634 | INFO     | __main__:get_processed_x_y:26 - 600\n",
            "2022-03-14 22:05:08.648 | INFO     | __main__:get_processed_x_y:26 - 600\n",
            "2022-03-14 22:05:08.658 | INFO     | __main__:get_processed_x_y:26 - 600\n",
            "2022-03-14 22:05:08.676 | INFO     | __main__:get_processed_x_y:26 - 600\n",
            "2022-03-14 22:05:08.703 | INFO     | __main__:get_processed_x_y:26 - 600\n",
            "2022-03-14 22:05:08.715 | INFO     | __main__:get_processed_x_y:26 - 399\n",
            "2022-03-14 22:05:08.726 | INFO     | __main__:get_processed_x_y:26 - 600\n",
            "2022-03-14 22:05:08.741 | INFO     | __main__:get_processed_x_y:26 - 600\n",
            "2022-03-14 22:05:08.750 | INFO     | __main__:get_processed_x_y:26 - 600\n",
            "2022-03-14 22:05:08.759 | INFO     | __main__:get_processed_x_y:26 - 600\n",
            "2022-03-14 22:05:08.765 | INFO     | __main__:get_processed_x_y:26 - 600\n",
            "2022-03-14 22:05:08.770 | INFO     | __main__:get_processed_x_y:26 - 600\n",
            "2022-03-14 22:05:08.777 | INFO     | __main__:get_processed_x_y:26 - 600\n",
            "2022-03-14 22:05:08.789 | INFO     | __main__:get_processed_x_y:26 - 600\n",
            "2022-03-14 22:05:08.806 | INFO     | __main__:get_processed_x_y:26 - 600\n",
            "2022-03-14 22:05:08.831 | INFO     | __main__:get_processed_x_y:26 - 400\n",
            "2022-03-14 22:05:08.840 | INFO     | __main__:get_processed_x_y:26 - 600\n",
            "2022-03-14 22:05:08.847 | INFO     | __main__:get_processed_x_y:26 - 600\n",
            "2022-03-14 22:05:08.854 | INFO     | __main__:get_processed_x_y:26 - 600\n",
            "2022-03-14 22:05:08.863 | INFO     | __main__:get_processed_x_y:26 - 600\n",
            "2022-03-14 22:05:08.869 | INFO     | __main__:get_processed_x_y:26 - 600\n",
            "2022-03-14 22:05:08.878 | INFO     | __main__:get_processed_x_y:26 - 600\n",
            "2022-03-14 22:05:08.887 | INFO     | __main__:get_processed_x_y:26 - 600\n",
            "2022-03-14 22:05:08.896 | INFO     | __main__:get_processed_x_y:26 - 600\n",
            "2022-03-14 22:05:08.909 | INFO     | __main__:get_processed_x_y:26 - 600\n",
            "2022-03-14 22:05:08.919 | INFO     | __main__:get_processed_x_y:26 - 600\n",
            "2022-03-14 22:05:08.927 | INFO     | __main__:get_processed_x_y:26 - 600\n",
            "2022-03-14 22:05:08.935 | INFO     | __main__:get_processed_x_y:26 - 600\n",
            "2022-03-14 22:05:08.946 | INFO     | __main__:get_processed_x_y:26 - 600\n",
            "2022-03-14 22:05:08.951 | INFO     | __main__:get_processed_x_y:26 - 600\n",
            "2022-03-14 22:05:08.958 | INFO     | __main__:get_processed_x_y:26 - 600\n",
            "2022-03-14 22:05:08.968 | INFO     | __main__:get_processed_x_y:26 - 600\n",
            "2022-03-14 22:05:08.975 | INFO     | __main__:get_processed_x_y:26 - 600\n",
            "2022-03-14 22:05:08.988 | INFO     | __main__:get_processed_x_y:26 - 600\n",
            "2022-03-14 22:05:09.000 | INFO     | __main__:get_processed_x_y:26 - 600\n",
            "2022-03-14 22:05:09.011 | INFO     | __main__:get_processed_x_y:26 - 600\n",
            "2022-03-14 22:05:09.022 | INFO     | __main__:get_processed_x_y:26 - 600\n",
            "2022-03-14 22:05:09.029 | INFO     | __main__:get_processed_x_y:26 - 600\n",
            "2022-03-14 22:05:09.040 | INFO     | __main__:get_processed_x_y:26 - 600\n",
            "2022-03-14 22:05:09.052 | INFO     | __main__:get_processed_x_y:26 - 600\n",
            "2022-03-14 22:05:09.061 | INFO     | __main__:get_processed_x_y:26 - 600\n",
            "2022-03-14 22:05:09.084 | INFO     | __main__:get_processed_x_y:26 - 600\n",
            "2022-03-14 22:05:09.096 | INFO     | __main__:get_processed_x_y:26 - 600\n",
            "2022-03-14 22:05:09.103 | INFO     | __main__:get_processed_x_y:26 - 600\n",
            "2022-03-14 22:05:09.114 | INFO     | __main__:get_processed_x_y:26 - 600\n",
            "2022-03-14 22:05:09.123 | INFO     | __main__:get_processed_x_y:26 - 600\n",
            "2022-03-14 22:05:09.133 | INFO     | __main__:get_processed_x_y:26 - 600\n",
            "2022-03-14 22:05:09.146 | INFO     | __main__:get_processed_x_y:26 - 450\n",
            "2022-03-14 22:05:09.159 | INFO     | __main__:get_processed_x_y:26 - 600\n",
            "2022-03-14 22:05:09.169 | INFO     | __main__:get_processed_x_y:26 - 600\n",
            "2022-03-14 22:05:09.180 | INFO     | __main__:get_processed_x_y:26 - 600\n",
            "2022-03-14 22:05:09.185 | INFO     | __main__:get_processed_x_y:26 - 399\n",
            "2022-03-14 22:05:09.192 | INFO     | __main__:get_processed_x_y:26 - 600\n",
            "2022-03-14 22:05:09.211 | INFO     | __main__:get_processed_x_y:26 - 600\n",
            "2022-03-14 22:05:09.222 | INFO     | __main__:get_processed_x_y:26 - 600\n",
            "2022-03-14 22:05:09.235 | INFO     | __main__:get_processed_x_y:26 - 600\n",
            "2022-03-14 22:05:09.243 | INFO     | __main__:get_processed_x_y:26 - 600\n",
            "2022-03-14 22:05:09.252 | INFO     | __main__:get_processed_x_y:26 - 600\n",
            "2022-03-14 22:05:09.263 | INFO     | __main__:get_processed_x_y:26 - 399\n",
            "2022-03-14 22:05:09.272 | INFO     | __main__:get_processed_x_y:26 - 600\n",
            "2022-03-14 22:05:09.283 | INFO     | __main__:get_processed_x_y:26 - 600\n",
            "2022-03-14 22:05:09.292 | INFO     | __main__:get_processed_x_y:26 - 600\n",
            "2022-03-14 22:05:09.301 | INFO     | __main__:get_processed_x_y:26 - 600\n",
            "2022-03-14 22:05:09.308 | INFO     | __main__:get_processed_x_y:26 - 589\n",
            "2022-03-14 22:05:09.317 | INFO     | __main__:get_processed_x_y:26 - 600\n",
            "2022-03-14 22:05:09.329 | INFO     | __main__:get_processed_x_y:26 - 600\n",
            "2022-03-14 22:05:09.338 | INFO     | __main__:get_processed_x_y:26 - 400\n",
            "2022-03-14 22:05:09.345 | INFO     | __main__:get_processed_x_y:26 - 600\n",
            "2022-03-14 22:05:09.352 | INFO     | __main__:get_processed_x_y:26 - 600\n",
            "2022-03-14 22:05:09.360 | INFO     | __main__:get_processed_x_y:26 - 600\n",
            "2022-03-14 22:05:09.368 | INFO     | __main__:get_processed_x_y:26 - 600\n",
            "2022-03-14 22:05:09.385 | INFO     | __main__:get_processed_x_y:26 - 600\n",
            "2022-03-14 22:05:09.390 | INFO     | __main__:get_processed_x_y:26 - 600\n",
            "2022-03-14 22:05:09.398 | INFO     | __main__:get_processed_x_y:26 - 600\n",
            "2022-03-14 22:05:09.403 | INFO     | __main__:get_processed_x_y:26 - 600\n",
            "2022-03-14 22:05:09.411 | INFO     | __main__:get_processed_x_y:26 - 399\n",
            "2022-03-14 22:05:09.416 | INFO     | __main__:get_processed_x_y:26 - 600\n",
            "2022-03-14 22:05:09.423 | INFO     | __main__:get_processed_x_y:26 - 600\n",
            "2022-03-14 22:05:09.429 | INFO     | __main__:get_processed_x_y:26 - 600\n",
            "2022-03-14 22:05:09.440 | INFO     | __main__:get_processed_x_y:26 - 600\n",
            "2022-03-14 22:05:09.446 | INFO     | __main__:get_processed_x_y:26 - 600\n",
            "2022-03-14 22:05:09.452 | INFO     | __main__:get_processed_x_y:26 - 600\n",
            "2022-03-14 22:05:09.461 | INFO     | __main__:get_processed_x_y:26 - 600\n",
            "2022-03-14 22:05:09.467 | INFO     | __main__:get_processed_x_y:26 - 600\n",
            "2022-03-14 22:05:09.475 | INFO     | __main__:get_processed_x_y:26 - 600\n",
            "2022-03-14 22:05:09.487 | INFO     | __main__:get_processed_x_y:26 - 600\n"
          ]
        }
      ]
    },
    {
      "cell_type": "markdown",
      "source": [
        "# Data Processing"
      ],
      "metadata": {
        "id": "qJQbNPjTrGfc"
      }
    },
    {
      "cell_type": "code",
      "source": [
        "import tensorflow as tf\n"
      ],
      "metadata": {
        "id": "n8DdexXKq5XP"
      },
      "execution_count": 8,
      "outputs": []
    }
  ],
  "nbformat": 4,
  "nbformat_minor": 0,
  "metadata": {
    "colab": {
      "name": "rc-e1.ipynb",
      "provenance": [],
      "collapsed_sections": [],
      "include_colab_link": true
    },
    "kernelspec": {
      "name": "python3",
      "display_name": "Python 3"
    },
    "language_info": {
      "name": "python"
    },
    "deepnote_notebook_id": "ce7a3b8d-4a70-4d2c-b208-fb3724dd532e",
    "deepnote": {},
    "deepnote_execution_queue": []
  }
}