{
  "cells": [
    {
      "cell_type": "markdown",
      "metadata": {
        "id": "view-in-github",
        "colab_type": "text"
      },
      "source": [
        "<a href=\"https://colab.research.google.com/github/urmzd/rabbit-classifier/blob/main/src/rc_e1.ipynb\" target=\"_parent\"><img src=\"https://colab.research.google.com/assets/colab-badge.svg\" alt=\"Open In Colab\"/></a>"
      ]
    },
    {
      "cell_type": "code",
      "metadata": {
        "colab": {
          "base_uri": "https://localhost:8080/"
        },
        "id": "UC4X69CKSb8l",
        "outputId": "bc0d1ef7-9aff-4471-f958-4e987b866544",
        "cell_id": "00001-e041e215-eab8-4f7f-a991-5445374e65c7",
        "deepnote_to_be_reexecuted": false,
        "source_hash": "f1565328",
        "execution_start": 1647201571498,
        "execution_millis": 1715,
        "deepnote_cell_type": "code",
        "deepnote_cell_height": 170
      },
      "source": [
        "!mkdir -p /content\n",
        "!curl https://raw.githubusercontent.com/urmzd/rabbit-classifier/main/resources/data.csv --output /content/data.csv"
      ],
      "execution_count": 17,
      "outputs": [
        {
          "output_type": "stream",
          "name": "stdout",
          "text": [
            "  % Total    % Received % Xferd  Average Speed   Time    Time     Time  Current\n",
            "                                 Dload  Upload   Total   Spent    Left  Speed\n",
            "\r  0     0    0     0    0     0      0      0 --:--:-- --:--:-- --:--:--     0\r100  9459  100  9459    0     0   130k      0 --:--:-- --:--:-- --:--:--  130k\n"
          ]
        }
      ]
    },
    {
      "cell_type": "code",
      "metadata": {
        "id": "Qxr0rretS_9G",
        "cell_id": "00003-7b710265-0bcd-4077-b1d0-dcd3358647dd",
        "deepnote_to_be_reexecuted": false,
        "source_hash": "e35681e9",
        "execution_start": 1647201580226,
        "execution_millis": 115,
        "deepnote_cell_type": "code",
        "deepnote_cell_height": 747,
        "colab": {
          "base_uri": "https://localhost:8080/"
        },
        "outputId": "f1d42b8c-9789-42d4-8f9f-ca21ae79919d"
      },
      "source": [
        "import pandas as pd\n",
        "import requests\n",
        "import os\n",
        "import re\n",
        "import pathlib\n",
        "\n",
        "DATA_PATH=\"/content/data.csv\"\n",
        "IMAGE_PATH=\"/content/images\"\n",
        "\n",
        "df = pd.read_csv(DATA_PATH, usecols=range(2))\n",
        "\n",
        "def init_image_directory(image_path=IMAGE_PATH) -> None:\n",
        "  os.mkdir(image_path)\n",
        "\n",
        "def download_image_to_location(link: str) -> pathlib.Path:\n",
        "  file_name_regex = re.compile(r\".*\\/(.*\\.(png|jpeg|jpg)).*\", flags=re.IGNORECASE)\n",
        "  regex_matches = file_name_regex.match(link)\n",
        "\n",
        "  if not regex_matches:\n",
        "    raise Exception(f\"Failed to match file_name for link {link}\")\n",
        "\n",
        "\n",
        "  file_name = regex_matches.group(1)\n",
        "  image_request_headers={\n",
        "      'User-Agent': 'Mozilla/5.0 (Macintosh; Intel Mac OS X 10_11_5) AppleWebKit/537.36 (KHTML, like Gecko) Chrome/50.0.2661.102 Safari/537.36'\n",
        "  }\n",
        "\n",
        "  image = requests.get(link, headers=image_request_headers)\n",
        "  print(image.status_code)\n",
        "\n",
        "  content_path = pathlib.Path(IMAGE_PATH)\n",
        "  content_path.mkdir(parents=True, exist_ok=True)\n",
        "\n",
        "  file_path = content_path / file_name\n",
        "\n",
        "  with open(file_path, \"wb\") as handle:\n",
        "    handle.write(image.content)\n",
        "\n",
        "  return file_path\n",
        "\n",
        "file_path = download_image_to_location(df.iloc[2,1])"
      ],
      "execution_count": 20,
      "outputs": [
        {
          "output_type": "stream",
          "name": "stdout",
          "text": [
            "200\n"
          ]
        }
      ]
    },
    {
      "cell_type": "code",
      "metadata": {
        "colab": {
          "base_uri": "https://localhost:8080/"
        },
        "id": "-zbmiVyDmmvU",
        "outputId": "abad6966-a182-4cd0-e518-53bcd8eb51c4",
        "cell_id": "00004-c2dea932-9f3e-4e37-99fd-faf1b762a37b",
        "deepnote_to_be_reexecuted": false,
        "source_hash": "1f483867",
        "execution_start": 1647201633464,
        "execution_millis": 592,
        "deepnote_cell_type": "code",
        "deepnote_cell_height": 387.1875
      },
      "source": [
        "import cv2\n",
        "from typing import NewType, Optional\n",
        "import numpy as np\n",
        "from google.colab.patches import cv2_imshow\n",
        "\n",
        "Image = NewType('Image', np.array)\n",
        "\n",
        "def read_and_show_image(file_path: pathlib.Path) -> Optional[Image]:\n",
        "  img = cv2.imread(str(file_path))\n",
        "  if img is None:\n",
        "    return None\n",
        "\n",
        "  #cv2_imshow(img)\n",
        "  #return img\n",
        "\n",
        "for _, row in df.iterrows():\n",
        "  label, link = row\n",
        "  try:\n",
        "    path = download_image_to_location(link)  \n",
        "  except:\n",
        "    continue\n",
        "  \n",
        "  if path:\n",
        "    read_and_show_image(path)"
      ],
      "execution_count": 21,
      "outputs": [
        {
          "output_type": "stream",
          "name": "stdout",
          "text": [
            "200\n",
            "200\n",
            "200\n",
            "200\n",
            "200\n",
            "200\n",
            "200\n",
            "200\n",
            "200\n",
            "200\n",
            "200\n",
            "200\n",
            "200\n",
            "200\n",
            "200\n",
            "200\n",
            "200\n",
            "200\n",
            "200\n",
            "200\n",
            "200\n",
            "200\n",
            "200\n",
            "200\n",
            "200\n",
            "200\n",
            "200\n",
            "200\n",
            "200\n",
            "200\n",
            "200\n",
            "200\n",
            "200\n",
            "200\n",
            "200\n",
            "200\n",
            "200\n",
            "200\n",
            "200\n",
            "200\n",
            "200\n",
            "200\n",
            "200\n",
            "200\n",
            "200\n",
            "200\n",
            "200\n",
            "200\n",
            "200\n",
            "200\n",
            "200\n",
            "200\n",
            "200\n",
            "200\n",
            "200\n",
            "200\n",
            "200\n",
            "200\n",
            "200\n",
            "200\n",
            "200\n",
            "200\n",
            "200\n",
            "200\n",
            "200\n",
            "200\n",
            "200\n",
            "200\n",
            "200\n",
            "200\n",
            "200\n",
            "200\n",
            "200\n",
            "200\n",
            "200\n",
            "200\n",
            "200\n",
            "200\n",
            "200\n",
            "200\n",
            "200\n",
            "200\n",
            "200\n"
          ]
        }
      ]
    }
  ],
  "nbformat": 4,
  "nbformat_minor": 0,
  "metadata": {
    "colab": {
      "name": "rc-e1.ipynb",
      "provenance": [],
      "collapsed_sections": [],
      "include_colab_link": true
    },
    "kernelspec": {
      "name": "python3",
      "display_name": "Python 3"
    },
    "language_info": {
      "name": "python"
    },
    "deepnote_notebook_id": "ce7a3b8d-4a70-4d2c-b208-fb3724dd532e",
    "deepnote": {},
    "deepnote_execution_queue": []
  }
}