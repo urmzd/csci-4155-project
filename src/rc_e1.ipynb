{
  "cells": [
    {
      "cell_type": "markdown",
      "metadata": {
        "colab_type": "text",
        "id": "view-in-github"
      },
      "source": [
        "<a href=\"https://colab.research.google.com/github/urmzd/rabbit-classifier/blob/main/src/rc_e1.ipynb\" target=\"_parent\"><img src=\"https://colab.research.google.com/assets/colab-badge.svg\" alt=\"Open In Colab\"/></a>"
      ]
    },
    {
      "cell_type": "code",
      "execution_count": 29,
      "metadata": {
        "colab": {
          "base_uri": "https://localhost:8080/"
        },
        "id": "uVq5J1zc1HcX",
        "outputId": "f2ac9d4a-7000-4161-da35-c6d49c03bcd5"
      },
      "outputs": [
        {
          "name": "stdout",
          "output_type": "stream",
          "text": [
            "Requirement already satisfied: loguru in /home/urmzd/.pyenv/versions/3.8-dev/envs/rabbit-classifier/lib/python3.8/site-packages (0.6.0)\n",
            "\u001b[33mWARNING: You are using pip version 21.1.1; however, version 22.0.4 is available.\n",
            "You should consider upgrading via the '/home/urmzd/.pyenv/versions/3.8-dev/envs/rabbit-classifier/bin/python -m pip install --upgrade pip' command.\u001b[0m\n",
            "Note: you may need to restart the kernel to use updated packages.\n"
          ]
        }
      ],
      "source": [
        "%pip install loguru"
      ]
    },
    {
      "cell_type": "markdown",
      "metadata": {
        "id": "9ucDgngtq-yi"
      },
      "source": [
        "# Data Exploration"
      ]
    },
    {
      "cell_type": "code",
      "execution_count": 30,
      "metadata": {
        "cell_id": "00001-e041e215-eab8-4f7f-a991-5445374e65c7",
        "colab": {
          "base_uri": "https://localhost:8080/"
        },
        "deepnote_cell_height": 170,
        "deepnote_cell_type": "code",
        "deepnote_to_be_reexecuted": false,
        "execution_millis": 1715,
        "execution_start": 1647201571498,
        "id": "UC4X69CKSb8l",
        "outputId": "d4acccd5-ee52-44e6-85f9-e4cf7d1f2d5c",
        "source_hash": "f1565328"
      },
      "outputs": [
        {
          "name": "stderr",
          "output_type": "stream",
          "text": [
            "UsageError: Line magic function `%curl` not found.\n"
          ]
        }
      ],
      "source": [
        "%mkdir -p /tmp\n",
        "%curl https://raw.githubusercontent.com/urmzd/rabbit-classifier/main/resources/data.csv --output /tmp/data.csv"
      ]
    },
    {
      "cell_type": "code",
      "execution_count": 31,
      "metadata": {
        "cell_id": "00003-7b710265-0bcd-4077-b1d0-dcd3358647dd",
        "colab": {
          "base_uri": "https://localhost:8080/",
          "height": 206
        },
        "deepnote_cell_height": 747,
        "deepnote_cell_type": "code",
        "deepnote_to_be_reexecuted": false,
        "execution_millis": 115,
        "execution_start": 1647201580226,
        "id": "Qxr0rretS_9G",
        "outputId": "6de8f1cb-8200-4b30-d673-8c43a9647a8e",
        "source_hash": "e35681e9"
      },
      "outputs": [
        {
          "data": {
            "text/html": [
              "<div>\n",
              "<style scoped>\n",
              "    .dataframe tbody tr th:only-of-type {\n",
              "        vertical-align: middle;\n",
              "    }\n",
              "\n",
              "    .dataframe tbody tr th {\n",
              "        vertical-align: top;\n",
              "    }\n",
              "\n",
              "    .dataframe thead th {\n",
              "        text-align: right;\n",
              "    }\n",
              "</style>\n",
              "<table border=\"1\" class=\"dataframe\">\n",
              "  <thead>\n",
              "    <tr style=\"text-align: right;\">\n",
              "      <th></th>\n",
              "      <th>label</th>\n",
              "      <th>link</th>\n",
              "    </tr>\n",
              "  </thead>\n",
              "  <tbody>\n",
              "    <tr>\n",
              "      <th>0</th>\n",
              "      <td>rabbit</td>\n",
              "      <td>https://upload.wikimedia.org/wikipedia/commons...</td>\n",
              "    </tr>\n",
              "    <tr>\n",
              "      <th>1</th>\n",
              "      <td>rabbit</td>\n",
              "      <td>https://upload.wikimedia.org/wikipedia/commons...</td>\n",
              "    </tr>\n",
              "    <tr>\n",
              "      <th>2</th>\n",
              "      <td>rabbit</td>\n",
              "      <td>https://www.massaudubon.org/var/ezdemo_site/st...</td>\n",
              "    </tr>\n",
              "    <tr>\n",
              "      <th>3</th>\n",
              "      <td>rabbit</td>\n",
              "      <td>https://www.welcomewildlife.com/wp-content/upl...</td>\n",
              "    </tr>\n",
              "    <tr>\n",
              "      <th>4</th>\n",
              "      <td>rabbit</td>\n",
              "      <td>https://i.natgeofe.com/k/58df97a7-5c47-44b8-97...</td>\n",
              "    </tr>\n",
              "  </tbody>\n",
              "</table>\n",
              "</div>"
            ],
            "text/plain": [
              "    label                                               link\n",
              "0  rabbit  https://upload.wikimedia.org/wikipedia/commons...\n",
              "1  rabbit  https://upload.wikimedia.org/wikipedia/commons...\n",
              "2  rabbit  https://www.massaudubon.org/var/ezdemo_site/st...\n",
              "3  rabbit  https://www.welcomewildlife.com/wp-content/upl...\n",
              "4  rabbit  https://i.natgeofe.com/k/58df97a7-5c47-44b8-97..."
            ]
          },
          "execution_count": 31,
          "metadata": {},
          "output_type": "execute_result"
        }
      ],
      "source": [
        "import pandas as pd\n",
        "import requests\n",
        "import re\n",
        "import pathlib\n",
        "from loguru import logger\n",
        "\n",
        "DATA_PATH=\"/tmp/data.csv\"\n",
        "IMAGE_PATH=\"/tmp/images\"\n",
        "\n",
        "def get_data():\n",
        "  df = pd.read_csv(DATA_PATH, usecols=range(2))\n",
        "  return df\n",
        "\n",
        "def download_image(link: str) -> pathlib.Path:\n",
        "  # view  : https://regex101.com/r/3bhDMM/1\n",
        "  # delete: https://regex101.com/delete/N5sItwbrPF73ZllTnRDltxZ1\n",
        "  file_name_regex = re.compile(r\".*\\/(.*(\\.(jpeg|jpg|png))?)\\??.*\", flags=re.IGNORECASE)\n",
        "  regex_matches = file_name_regex.match(link)\n",
        "\n",
        "  if not regex_matches:\n",
        "    raise Exception(f\"Failed to match file_name for link {link}\")\n",
        "\n",
        "  if len(regex_matches.groups()) < 3:\n",
        "    file_name = regex_matches.group(1) + \".png\"\n",
        "  else:\n",
        "    file_name = regex_matches.group(1)\n",
        "\n",
        "  content_path = pathlib.Path(IMAGE_PATH)\n",
        "  content_path.mkdir(parents=True, exist_ok=True)\n",
        "\n",
        "  file_path = content_path / file_name\n",
        "\n",
        "  if file_path.exists():\n",
        "    return file_path\n",
        "\n",
        "  image_request_headers={\n",
        "      'User-Agent': 'Mozilla/5.0 (Macintosh; Intel Mac OS X 10_11_5) AppleWebKit/537.36 (KHTML, like Gecko) Chrome/50.0.2661.102 Safari/537.36'\n",
        "  }\n",
        "\n",
        "  image = requests.get(link, headers=image_request_headers)\n",
        "\n",
        "  with open(file_path, \"wb\") as handle:\n",
        "    handle.write(image.content)\n",
        "\n",
        "  return file_path\n",
        "\n",
        "df = get_data()\n",
        "df.head()"
      ]
    },
    {
      "cell_type": "code",
      "execution_count": 32,
      "metadata": {
        "cell_id": "00004-c2dea932-9f3e-4e37-99fd-faf1b762a37b",
        "deepnote_cell_height": 387.1875,
        "deepnote_cell_type": "code",
        "deepnote_to_be_reexecuted": false,
        "execution_millis": 592,
        "execution_start": 1647201633464,
        "id": "-zbmiVyDmmvU",
        "source_hash": "1f483867"
      },
      "outputs": [],
      "source": [
        "import cv2\n",
        "from typing import NewType, Tuple, List\n",
        "import numpy as np\n",
        "# from google.colab.patches import cv2_imshow\n",
        "\n",
        "Image = NewType('Image', np.array)\n",
        "Label = NewType('Label', str)\n",
        "ImageLabelPair = Tuple[Image, Label]\n",
        "\n",
        "def get_image(file_path: pathlib.Path, show=False) -> Image:\n",
        "  image = cv2.imread(str(file_path))\n",
        "\n",
        "  if show:\n",
        "    cv2.imshow(image)\n",
        "    \n",
        "  return Image(image)\n",
        "\n",
        "RawX = NewType('RawX', List[Image])\n",
        "RawY = NewType('RawY', np.ndarray)\n",
        "\n",
        "def get_x_y(raw_data: pd.DataFrame) -> Tuple[RawX, RawY]:\n",
        "  y = df.iloc[:, 0].to_numpy()\n",
        "  logger.info(y)\n",
        "  y = y.reshape(-1, 1)\n",
        "\n",
        "  x_links = df.iloc[:, 1].tolist()\n",
        "  x_paths = [download_image(link) for link in x_links]\n",
        "  x = [get_image(path) for path in x_paths]\n",
        "\n",
        "  return RawX(x), RawY(y)"
      ]
    },
    {
      "cell_type": "code",
      "execution_count": 33,
      "metadata": {
        "colab": {
          "base_uri": "https://localhost:8080/",
          "height": 582
        },
        "id": "Y4YskbE22ehz",
        "outputId": "b0e4a2f0-e2c2-4a62-da39-adbde54171a6"
      },
      "outputs": [
        {
          "name": "stderr",
          "output_type": "stream",
          "text": [
            "2022-03-14 21:30:14.083 | INFO     | __main__:get_x_y:23 - ['rabbit' 'rabbit' 'rabbit' 'rabbit' 'rabbit' 'rabbit' 'rabbit' 'rabbit'\n",
            " 'rabbit' 'rabbit' 'rabbit' 'rabbit' 'rabbit' 'rabbit' 'rabbit' 'rabbit'\n",
            " 'rabbit' 'rabbit' 'rabbit' 'rabbit' 'rabbit' 'rabbit' 'rabbit' 'rabbit'\n",
            " 'rabbit' 'rabbit' 'rabbit' 'rabbit' 'rabbit' 'rabbit' 'rabbit' 'rabbit'\n",
            " 'rabbit' 'rabbit' 'rabbit' 'rabbit' 'rabbit' 'rabbit' 'rabbit' 'rabbit'\n",
            " 'rabbit' 'rabbit' 'rabbit' 'rabbit' 'rabbit' 'rabbit' 'hare' 'hare'\n",
            " 'hare' 'hare' 'hare' 'hare' 'hare' 'hare' 'hare' 'hare' 'hare' 'hare'\n",
            " 'hare' 'hare' 'hare' 'hare' 'hare' 'hare' 'hare' 'hare' 'hare' 'hare'\n",
            " 'hare' 'hare' 'hare' 'hare' 'hare' 'hare' 'hare' 'hare' 'hare' 'hare'\n",
            " 'hare' 'hare' 'hare' 'hare' 'hare' 'hare' 'hare']\n"
          ]
        }
      ],
      "source": [
        "from sklearn.preprocessing import OneHotEncoder\n",
        "import albumentations as A\n",
        "import tensorflow as tf\n",
        "import matplotlib.pyplot as plt\n",
        "import random\n",
        "\n",
        "random.seed(42)\n",
        "\n",
        "\n",
        "def get_x_y_preprocessors(x: RawX, y: RawY):  \n",
        "  y_encoder = OneHotEncoder(sparse=False).fit(y)\n",
        "  x_encoder = A.Compose([\n",
        "                        #  A.ToGray(), \n",
        "                         A.LongestMaxSize(200), \n",
        "                         A.PadIfNeeded(min_height=200, min_width=200), \n",
        "                         A.Normalize()\n",
        "                         ])\n",
        "\n",
        "  return x_encoder, y_encoder\n",
        "\n",
        "data = get_data()\n",
        "x,y = get_x_y(data)\n",
        "\n",
        "def get_processed_x_y(x: RawX, y: RawY):\n",
        "\n",
        "  x_encoder,y_encoder = get_x_y_preprocessors(x, y)\n",
        "  min_width = float('inf')\n",
        "  for i, x_sample in enumerate(x):\n",
        "    x_data = {\"image\": x_sample}\n",
        "    encoded_object = x_encoder(**x_data)\n",
        "    transformed_image = encoded_object[\"image\"]\n",
        "    normalized_transformed_image = transformed_image.astype(np.float32)[:,:,0]\n",
        "    if i == 0:\n",
        "      logger.info(normalized_transformed_image.dtype)\n",
        "      logger.info(normalized_transformed_image.shape)\n",
        "      logger.info(normalized_transformed_image)\n",
        "      plt.imshow(normalized_transformed_image)\n",
        "\n",
        "  encoder = OneHotEncoder(sparse=False)\n",
        "  y_transformed: np.ndarray = encoder.fit_transform(y)\n",
        "\n",
        "get_processed_x_y(x,y)"
      ]
    },
    {
      "cell_type": "markdown",
      "metadata": {
        "id": "qJQbNPjTrGfc"
      },
      "source": [
        "# Data Processing"
      ]
    }
  ],
  "metadata": {
    "colab": {
      "collapsed_sections": [],
      "include_colab_link": true,
      "name": "rc-e1.ipynb",
      "provenance": []
    },
    "deepnote": {},
    "deepnote_execution_queue": [],
    "deepnote_notebook_id": "ce7a3b8d-4a70-4d2c-b208-fb3724dd532e",
    "kernelspec": {
      "display_name": "Python 3",
      "name": "python3"
    },
    "language_info": {
      "codemirror_mode": {
        "name": "ipython",
        "version": 3
      },
      "file_extension": ".py",
      "mimetype": "text/x-python",
      "name": "python",
      "nbconvert_exporter": "python",
      "pygments_lexer": "ipython3",
      "version": "3.8.12+"
    }
  },
  "nbformat": 4,
  "nbformat_minor": 0
}
