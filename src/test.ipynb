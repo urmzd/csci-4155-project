{
 "cells": [
  {
   "cell_type": "code",
   "execution_count": 4,
   "metadata": {},
   "outputs": [
    {
     "name": "stderr",
     "output_type": "stream",
     "text": [
      "Global seed set to 42\n",
      "Global seed set to 42\n"
     ]
    }
   ],
   "source": [
    "from pytorch_lightning import seed_everything, Trainer\n",
    "from data.data_handler import SampleModel, LepusStratifiedKFoldDataModule\n",
    "from \n",
    "from pathlib import Path\n",
    "seed_everything(42)\n",
    "\n",
    "if __name__ == \"__main__\":\n",
    "    seed_everything(42)\n",
    "    model = SampleModel()\n",
    "    DATA_MANFIEST_PATH= Path(\"../resources/data.csv\")\n",
    "    IMAGE_FOLDER_PATH = Path(\"/tmp/images\")\n",
    "    x_encoder = partial(get_image_encoder())\n",
    "    datamodule = LepusStratifiedKFoldDataModule(data_manifest_path=DATA_MANFIEST_PATH, image_folder_path=IMAGE_FOLDER_PATH)\n",
    "    trainer = Trainer(\n",
    "        max_epochs=10,\n",
    "        limit_train_batches=2,\n",
    "        limit_val_batches=2,\n",
    "        limit_test_batches=2,\n",
    "        num_sanity_val_steps=0,\n",
    "        devices=2,\n",
    "        accelerator=\"auto\",\n",
    "        strategy=\"ddp\",\n",
    "    )\n",
    "    internal_fit_loop = trainer.fit_loop\n",
    "    trainer.fit_loop = KFoldLoop(5, export_path=\"./\")\n",
    "    trainer.fit_loop.connect(internal_fit_loop)\n",
    "    trainer.fit(model, datamodule)"
   ]
  }
 ],
 "metadata": {
  "interpreter": {
   "hash": "88ab48771553cae9e057702a27251a1eba2eff7a52cf983325c7fe23dd185bb6"
  },
  "kernelspec": {
   "display_name": "Python 3.8.12 64-bit ('rabbit-classifier')",
   "language": "python",
   "name": "python3"
  },
  "language_info": {
   "codemirror_mode": {
    "name": "ipython",
    "version": 3
   },
   "file_extension": ".py",
   "mimetype": "text/x-python",
   "name": "python",
   "nbconvert_exporter": "python",
   "pygments_lexer": "ipython3",
   "version": "3.8.12+"
  },
  "orig_nbformat": 4
 },
 "nbformat": 4,
 "nbformat_minor": 2
}
